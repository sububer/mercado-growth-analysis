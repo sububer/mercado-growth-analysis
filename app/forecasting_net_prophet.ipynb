{
 "cells": [
  {
   "cell_type": "markdown",
   "metadata": {},
   "source": [
    "# Forecasting Net Prophet\n",
    "\n",
    "You’re a growth analyst at [MercadoLibre](http://investor.mercadolibre.com/investor-relations). With over 200 million users, MercadoLibre is the most popular e-commerce site in Latin America. You've been tasked with analyzing the company's financial and user data in clever ways to make the company grow. So, you want to find out if the ability to predict search traffic can translate into the ability to successfully trade the stock.\n",
    "\n",
    "Instructions\n",
    "\n",
    "This section divides the instructions for this Challenge into four steps and an optional fifth step, as follows:\n",
    "\n",
    "* Step 1: Find unusual patterns in hourly Google search traffic\n",
    "\n",
    "* Step 2: Mine the search traffic data for seasonality\n",
    "\n",
    "* Step 3: Relate the search traffic to stock price patterns\n",
    "\n",
    "* Step 4: Create a time series model with Prophet\n",
    "\n",
    "* Step 5 (optional): Forecast revenue by using time series models\n",
    "\n",
    "The following subsections detail these steps.\n",
    "\n",
    "## Step 1: Find Unusual Patterns in Hourly Google Search Traffic\n",
    "\n",
    "The data science manager asks if the Google search traffic for the company links to any financial events at the company. Or, does the search traffic data just present random noise? To answer this question, pick out any unusual patterns in the Google search data for the company, and connect them to the corporate financial events.\n",
    "\n",
    "To do so, complete the following steps:\n",
    "\n",
    "1. Read the search data into a DataFrame, and then slice the data to just the month of May 2020. (During this month, MercadoLibre released its quarterly financial results.) Use hvPlot to visualize the results. Do any unusual patterns exist?\n",
    "\n",
    "2. Calculate the total search traffic for the month, and then compare the value to the monthly median across all months. Did the Google search traffic increase during the month that MercadoLibre released its financial results?\n",
    "\n",
    "## Step 2: Mine the Search Traffic Data for Seasonality\n",
    "\n",
    "Marketing realizes that they can use the hourly search data, too. If they can track and predict interest in the company and its platform for any time of day, they can focus their marketing efforts around the times that have the most traffic. This will get a greater return on investment (ROI) from their marketing budget.\n",
    "\n",
    "To that end, you want to mine the search traffic data for predictable seasonal patterns of interest in the company. To do so, complete the following steps:\n",
    "\n",
    "1. Group the hourly search data to plot the average traffic by the day of the week (for example, Monday vs. Friday).\n",
    "\n",
    "2. Using hvPlot, visualize this traffic as a heatmap, referencing the `index.hour` as the x-axis and the `index.dayofweek` as the y-axis. Does any day-of-week effect that you observe concentrate in just a few hours of that day?\n",
    "\n",
    "3. Group the search data by the week of the year. Does the search traffic tend to increase during the winter holiday period (weeks 40 through 52)?\n",
    "\n",
    "## Step 3: Relate the Search Traffic to Stock Price Patterns\n",
    "\n",
    "You mention your work on the search traffic data during a meeting with people in the finance group at the company. They want to know if any relationship between the search data and the company stock price exists, and they ask if you can investigate.\n",
    "\n",
    "To do so, complete the following steps:\n",
    "\n",
    "1. Read in and plot the stock price data. Concatenate the stock price data to the search data in a single DataFrame.\n",
    "\n",
    "2. Market events emerged during the year of 2020 that many companies found difficult. But, after the initial shock to global financial markets, new customers and revenue increased for e-commerce platforms. Slice the data to just the first half of 2020 (`2020-01` to `2020-06` in the DataFrame), and then use hvPlot to plot the data. Do both time series indicate a common trend that’s consistent with this narrative?\n",
    "\n",
    "3. Create a new column in the DataFrame named “Lagged Search Trends” that offsets, or shifts, the search traffic by one hour. Create two additional columns:\n",
    "\n",
    "    * “Stock Volatility”, which holds an exponentially weighted four-hour rolling average of the company’s stock volatility\n",
    "\n",
    "    * “Hourly Stock Return”, which holds the percent change of the company's stock price on an hourly basis\n",
    "\n",
    "4. Review the time series correlation, and then answer the following question: Does a predictable relationship exist between the lagged search traffic and the stock volatility or between the lagged search traffic and the stock price returns?\n",
    "\n",
    "## Step 4: Create a Time Series Model with Prophet\n",
    "\n",
    "Now, you need to produce a time series model that analyzes and forecasts patterns in the hourly search data. To do so, complete the following steps:\n",
    "\n",
    "1. Set up the Google search data for a Prophet forecasting model.\n",
    "\n",
    "2. After estimating the model, plot the forecast. How's the near-term forecast for the popularity of MercadoLibre?\n",
    "\n",
    "3. Plot the individual time series components of the model to answer the following questions:\n",
    "\n",
    "    * What time of day exhibits the greatest popularity?\n",
    "\n",
    "    * Which day of the week gets the most search traffic?\n",
    "\n",
    "    * What's the lowest point for search traffic in the calendar year?\n",
    "\n",
    "## Step 5 (Optional): Forecast Revenue by Using Time Series Models\n",
    "\n",
    "A few weeks after your initial analysis, the finance group follows up to find out if you can help them solve a different problem. Your fame as a growth analyst in the company continues to grow!\n",
    "\n",
    "Specifically, the finance group wants a forecast of the total sales for the next quarter. This will dramatically increase their ability to plan budgets and to help guide expectations for the company investors.\n",
    "\n",
    "To do so, complete the following steps:\n",
    "\n",
    "1. Read in the daily historical sales (that is, revenue) figures, and then apply a Prophet model to the data.\n",
    "\n",
    "2. Interpret the model output to identify any seasonal patterns in the company's revenue. For example, what are the peak revenue days? (Mondays? Fridays? Something else?)\n",
    "\n",
    "3. Produce a sales forecast for the finance group. Give them a number for the expected total sales in the next quarter. Include the best- and worst-case scenarios to help them make better plans.\n"
   ]
  },
  {
   "cell_type": "markdown",
   "metadata": {},
   "source": [
    "## Install and import the required libraries and dependencies"
   ]
  },
  {
   "cell_type": "code",
   "execution_count": 32,
   "metadata": {},
   "outputs": [],
   "source": [
    "# Import the required libraries and dependencies\n",
    "import pandas as pd\n",
    "import holoviews as hv\n",
    "import numpy as np\n",
    "from fbprophet import Prophet\n",
    "from pathlib import Path\n",
    "import hvplot.pandas\n",
    "import datetime as dt\n",
    "%matplotlib inline"
   ]
  },
  {
   "cell_type": "markdown",
   "metadata": {},
   "source": [
    "## Step 1: Find Unusual Patterns in Hourly Google Search Traffic\n",
    "\n",
    "The data science manager asks if the Google search traffic for the company links to any financial events at the company. Or, does the search traffic data just present random noise? To answer this question, pick out any unusual patterns in the Google search data for the company, and connect them to the corporate financial events.\n",
    "\n",
    "To do so, complete the following steps:\n",
    "\n",
    "1. Read the search data into a DataFrame, and then slice the data to just the month of May 2020. (During this month, MercadoLibre released its quarterly financial results.) Use hvPlot to visualize the results. Do any unusual patterns exist?\n",
    "\n",
    "2. Calculate the total search traffic for the month, and then compare the value to the monthly median across all months. Did the Google search traffic increase during the month that MercadoLibre released its financial results?\n"
   ]
  },
  {
   "cell_type": "markdown",
   "metadata": {},
   "source": [
    "#### Step 1: Read the search data into a DataFrame, and then slice the data to just the month of May 2020. (During this month, MercadoLibre released its quarterly financial results.) Use hvPlot to visualize the results. Do any unusual patterns exist?"
   ]
  },
  {
   "cell_type": "code",
   "execution_count": 2,
   "metadata": {},
   "outputs": [
    {
     "data": {
      "text/html": [
       "<div>\n",
       "<style scoped>\n",
       "    .dataframe tbody tr th:only-of-type {\n",
       "        vertical-align: middle;\n",
       "    }\n",
       "\n",
       "    .dataframe tbody tr th {\n",
       "        vertical-align: top;\n",
       "    }\n",
       "\n",
       "    .dataframe thead th {\n",
       "        text-align: right;\n",
       "    }\n",
       "</style>\n",
       "<table border=\"1\" class=\"dataframe\">\n",
       "  <thead>\n",
       "    <tr style=\"text-align: right;\">\n",
       "      <th></th>\n",
       "      <th>Search Trends</th>\n",
       "    </tr>\n",
       "    <tr>\n",
       "      <th>Date</th>\n",
       "      <th></th>\n",
       "    </tr>\n",
       "  </thead>\n",
       "  <tbody>\n",
       "    <tr>\n",
       "      <th>2016-06-01 00:00:00</th>\n",
       "      <td>97</td>\n",
       "    </tr>\n",
       "    <tr>\n",
       "      <th>2016-06-01 01:00:00</th>\n",
       "      <td>92</td>\n",
       "    </tr>\n",
       "    <tr>\n",
       "      <th>2016-06-01 02:00:00</th>\n",
       "      <td>76</td>\n",
       "    </tr>\n",
       "    <tr>\n",
       "      <th>2016-06-01 03:00:00</th>\n",
       "      <td>60</td>\n",
       "    </tr>\n",
       "    <tr>\n",
       "      <th>2016-06-01 04:00:00</th>\n",
       "      <td>38</td>\n",
       "    </tr>\n",
       "  </tbody>\n",
       "</table>\n",
       "</div>"
      ],
      "text/plain": [
       "                     Search Trends\n",
       "Date                              \n",
       "2016-06-01 00:00:00             97\n",
       "2016-06-01 01:00:00             92\n",
       "2016-06-01 02:00:00             76\n",
       "2016-06-01 03:00:00             60\n",
       "2016-06-01 04:00:00             38"
      ]
     },
     "metadata": {},
     "output_type": "display_data"
    },
    {
     "data": {
      "text/html": [
       "<div>\n",
       "<style scoped>\n",
       "    .dataframe tbody tr th:only-of-type {\n",
       "        vertical-align: middle;\n",
       "    }\n",
       "\n",
       "    .dataframe tbody tr th {\n",
       "        vertical-align: top;\n",
       "    }\n",
       "\n",
       "    .dataframe thead th {\n",
       "        text-align: right;\n",
       "    }\n",
       "</style>\n",
       "<table border=\"1\" class=\"dataframe\">\n",
       "  <thead>\n",
       "    <tr style=\"text-align: right;\">\n",
       "      <th></th>\n",
       "      <th>Search Trends</th>\n",
       "    </tr>\n",
       "    <tr>\n",
       "      <th>Date</th>\n",
       "      <th></th>\n",
       "    </tr>\n",
       "  </thead>\n",
       "  <tbody>\n",
       "    <tr>\n",
       "      <th>2020-09-07 20:00:00</th>\n",
       "      <td>71</td>\n",
       "    </tr>\n",
       "    <tr>\n",
       "      <th>2020-09-07 21:00:00</th>\n",
       "      <td>83</td>\n",
       "    </tr>\n",
       "    <tr>\n",
       "      <th>2020-09-07 22:00:00</th>\n",
       "      <td>96</td>\n",
       "    </tr>\n",
       "    <tr>\n",
       "      <th>2020-09-07 23:00:00</th>\n",
       "      <td>97</td>\n",
       "    </tr>\n",
       "    <tr>\n",
       "      <th>2020-09-08 00:00:00</th>\n",
       "      <td>96</td>\n",
       "    </tr>\n",
       "  </tbody>\n",
       "</table>\n",
       "</div>"
      ],
      "text/plain": [
       "                     Search Trends\n",
       "Date                              \n",
       "2020-09-07 20:00:00             71\n",
       "2020-09-07 21:00:00             83\n",
       "2020-09-07 22:00:00             96\n",
       "2020-09-07 23:00:00             97\n",
       "2020-09-08 00:00:00             96"
      ]
     },
     "metadata": {},
     "output_type": "display_data"
    }
   ],
   "source": [
    "# using \"google_hourly_search_trends.csv\" file, store into a Pandas DataFrame\n",
    "# Set the \"Date\" column as the Datetime Index.\n",
    "goog_trend_data = Path('../data/google_hourly_search_trends.csv')\n",
    "\n",
    "df_mercado_trends = pd.read_csv(goog_trend_data, index_col='Date', infer_datetime_format=True, parse_dates=True)\n",
    "\n",
    "# Review the first and last five rows of the DataFrame\n",
    "display(df_mercado_trends.head())\n",
    "display(df_mercado_trends.tail())"
   ]
  },
  {
   "cell_type": "code",
   "execution_count": 4,
   "metadata": {},
   "outputs": [
    {
     "name": "stdout",
     "output_type": "stream",
     "text": [
      "<class 'pandas.core.frame.DataFrame'>\n",
      "DatetimeIndex: 37106 entries, 2016-06-01 00:00:00 to 2020-09-08 00:00:00\n",
      "Data columns (total 1 columns):\n",
      " #   Column         Non-Null Count  Dtype\n",
      "---  ------         --------------  -----\n",
      " 0   Search Trends  37106 non-null  int64\n",
      "dtypes: int64(1)\n",
      "memory usage: 579.8 KB\n"
     ]
    }
   ],
   "source": [
    "# Review the data types of the DataFrame using the info function\n",
    "# note the index is DateTimeIndex, and 'Search Trends' is int64\n",
    "df_mercado_trends.info()\n"
   ]
  },
  {
   "cell_type": "code",
   "execution_count": 5,
   "metadata": {},
   "outputs": [
    {
     "data": {},
     "metadata": {},
     "output_type": "display_data"
    },
    {
     "data": {
      "application/vnd.holoviews_exec.v0+json": "",
      "text/html": [
       "<div id='1002'>\n",
       "\n",
       "\n",
       "\n",
       "\n",
       "\n",
       "  <div class=\"bk-root\" id=\"f15b3499-dd50-43d3-b9b4-10a00311a582\" data-root-id=\"1002\"></div>\n",
       "</div>\n",
       "<script type=\"application/javascript\">(function(root) {\n",
       "  function embed_document(root) {\n",
       "    var docs_json = {\"340c423d-d628-4f3c-9c02-b5f066518b80\":{\"defs\":[{\"extends\":null,\"module\":null,\"name\":\"ReactiveHTML1\",\"overrides\":[],\"properties\":[]},{\"extends\":null,\"module\":null,\"name\":\"FlexBox1\",\"overrides\":[],\"properties\":[{\"default\":\"flex-start\",\"kind\":null,\"name\":\"align_content\"},{\"default\":\"flex-start\",\"kind\":null,\"name\":\"align_items\"},{\"default\":\"row\",\"kind\":null,\"name\":\"flex_direction\"},{\"default\":\"wrap\",\"kind\":null,\"name\":\"flex_wrap\"},{\"default\":\"flex-start\",\"kind\":null,\"name\":\"justify_content\"}]},{\"extends\":null,\"module\":null,\"name\":\"TemplateActions1\",\"overrides\":[],\"properties\":[{\"default\":0,\"kind\":null,\"name\":\"open_modal\"},{\"default\":0,\"kind\":null,\"name\":\"close_modal\"}]},{\"extends\":null,\"module\":null,\"name\":\"MaterialTemplateActions1\",\"overrides\":[],\"properties\":[{\"default\":0,\"kind\":null,\"name\":\"open_modal\"},{\"default\":0,\"kind\":null,\"name\":\"close_modal\"}]}],\"roots\":{\"references\":[{\"attributes\":{\"margin\":[5,5,5,5],\"name\":\"HSpacer01631\",\"sizing_mode\":\"stretch_width\"},\"id\":\"1096\",\"type\":\"Spacer\"},{\"attributes\":{\"callback\":null,\"formatters\":{\"@{Date}\":\"datetime\"},\"renderers\":[{\"id\":\"1043\"}],\"tags\":[\"hv_created\"],\"tooltips\":[[\"Date\",\"@{Date}{%F %T}\"],[\"Search Trends\",\"@{Search_Trends}\"]]},\"id\":\"1006\",\"type\":\"HoverTool\"},{\"attributes\":{\"bottom_units\":\"screen\",\"coordinates\":null,\"fill_alpha\":0.5,\"fill_color\":\"lightgrey\",\"group\":null,\"left_units\":\"screen\",\"level\":\"overlay\",\"line_alpha\":1.0,\"line_color\":\"black\",\"line_dash\":[4,4],\"line_width\":2,\"right_units\":\"screen\",\"syncable\":false,\"top_units\":\"screen\"},\"id\":\"1029\",\"type\":\"BoxAnnotation\"},{\"attributes\":{},\"id\":\"1024\",\"type\":\"SaveTool\"},{\"attributes\":{},\"id\":\"1059\",\"type\":\"UnionRenderers\"},{\"attributes\":{\"base\":60,\"mantissas\":[1,2,5,10,15,20,30],\"max_interval\":1800000.0,\"min_interval\":1000.0,\"num_minor_ticks\":0},\"id\":\"1063\",\"type\":\"AdaptiveTicker\"},{\"attributes\":{},\"id\":\"1025\",\"type\":\"PanTool\"},{\"attributes\":{\"base\":24,\"mantissas\":[1,2,4,6,8,12],\"max_interval\":43200000.0,\"min_interval\":3600000.0,\"num_minor_ticks\":0},\"id\":\"1064\",\"type\":\"AdaptiveTicker\"},{\"attributes\":{\"days\":[1,2,3,4,5,6,7,8,9,10,11,12,13,14,15,16,17,18,19,20,21,22,23,24,25,26,27,28,29,30,31]},\"id\":\"1065\",\"type\":\"DaysTicker\"},{\"attributes\":{},\"id\":\"1026\",\"type\":\"WheelZoomTool\"},{\"attributes\":{\"tools\":[{\"id\":\"1006\"},{\"id\":\"1024\"},{\"id\":\"1025\"},{\"id\":\"1026\"},{\"id\":\"1027\"},{\"id\":\"1028\"}]},\"id\":\"1030\",\"type\":\"Toolbar\"},{\"attributes\":{\"below\":[{\"id\":\"1016\"}],\"center\":[{\"id\":\"1019\"},{\"id\":\"1023\"}],\"height\":300,\"left\":[{\"id\":\"1020\"}],\"margin\":[5,5,5,5],\"min_border_bottom\":10,\"min_border_left\":10,\"min_border_right\":10,\"min_border_top\":10,\"renderers\":[{\"id\":\"1043\"}],\"sizing_mode\":\"fixed\",\"title\":{\"id\":\"1008\"},\"toolbar\":{\"id\":\"1030\"},\"width\":700,\"x_range\":{\"id\":\"1004\"},\"x_scale\":{\"id\":\"1012\"},\"y_range\":{\"id\":\"1005\"},\"y_scale\":{\"id\":\"1014\"}},\"id\":\"1007\",\"subtype\":\"Figure\",\"type\":\"Plot\"},{\"attributes\":{\"overlay\":{\"id\":\"1029\"}},\"id\":\"1027\",\"type\":\"BoxZoomTool\"},{\"attributes\":{},\"id\":\"1048\",\"type\":\"AllLabels\"},{\"attributes\":{\"days\":[1,4,7,10,13,16,19,22,25,28]},\"id\":\"1066\",\"type\":\"DaysTicker\"},{\"attributes\":{\"end\":136.9,\"reset_end\":136.9,\"reset_start\":-5.9,\"start\":-5.9,\"tags\":[[[\"Search Trends\",\"Search Trends\",null]]]},\"id\":\"1005\",\"type\":\"Range1d\"},{\"attributes\":{\"days\":[1,8,15,22]},\"id\":\"1067\",\"type\":\"DaysTicker\"},{\"attributes\":{\"coordinates\":null,\"group\":null,\"text\":\"Mercado Search Trends -- May 2020\",\"text_color\":\"black\",\"text_font_size\":\"12pt\"},\"id\":\"1008\",\"type\":\"Title\"},{\"attributes\":{},\"id\":\"1028\",\"type\":\"ResetTool\"},{\"attributes\":{\"days\":[1,15]},\"id\":\"1068\",\"type\":\"DaysTicker\"},{\"attributes\":{},\"id\":\"1021\",\"type\":\"BasicTicker\"},{\"attributes\":{},\"id\":\"1038\",\"type\":\"Selection\"},{\"attributes\":{\"months\":[0,1,2,3,4,5,6,7,8,9,10,11]},\"id\":\"1069\",\"type\":\"MonthsTicker\"},{\"attributes\":{},\"id\":\"1014\",\"type\":\"LinearScale\"},{\"attributes\":{\"axis\":{\"id\":\"1016\"},\"coordinates\":null,\"grid_line_color\":null,\"group\":null,\"ticker\":null},\"id\":\"1019\",\"type\":\"Grid\"},{\"attributes\":{\"source\":{\"id\":\"1037\"}},\"id\":\"1044\",\"type\":\"CDSView\"},{\"attributes\":{\"months\":[0,2,4,6,8,10]},\"id\":\"1070\",\"type\":\"MonthsTicker\"},{\"attributes\":{},\"id\":\"1012\",\"type\":\"LinearScale\"},{\"attributes\":{\"data\":{\"Date\":{\"__ndarray__\":\"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\",\"dtype\":\"float64\",\"order\":\"little\",\"shape\":[744]},\"Search Trends\":[80,80,76,66,53,33,19,12,8,6,9,13,21,30,38,41,45,50,53,54,60,68,83,89,88,85,80,69,56,36,22,13,8,7,9,16,25,36,45,51,55,57,58,62,65,72,86,91,87,82,78,72,55,38,24,14,9,7,8,13,22,31,39,45,50,54,57,61,66,77,90,94,89,84,78,68,51,32,18,11,7,6,9,18,29,40,48,56,58,60,62,67,71,83,95,98,119,110,103,89,71,44,23,13,9,9,13,24,38,49,61,66,70,76,79,84,93,105,124,125,98,92,87,74,58,33,18,10,7,8,11,20,32,44,51,57,57,60,61,65,69,79,94,97,95,88,85,71,52,33,18,11,8,8,12,20,32,42,48,54,56,58,62,64,70,80,92,94,93,89,83,70,50,32,17,11,8,8,12,21,34,43,51,54,58,58,61,64,65,74,89,90,86,83,80,68,54,33,19,12,8,8,10,18,29,38,47,51,54,56,58,58,62,69,84,89,83,80,74,67,51,36,21,12,8,7,7,12,21,28,35,41,43,46,50,53,58,71,85,90,85,83,77,64,49,30,18,11,7,7,9,18,29,39,47,54,58,61,63,65,72,82,97,98,95,91,86,70,52,30,16,10,7,6,11,20,31,39,50,54,56,60,62,66,72,83,94,100,95,92,86,70,51,31,17,10,7,7,10,20,33,43,50,55,58,61,64,68,72,82,93,99,95,89,85,70,51,30,17,10,7,7,10,20,32,42,50,55,59,61,63,64,71,81,94,97,94,90,84,71,50,31,17,10,7,7,11,21,34,43,50,54,58,60,60,65,68,75,89,94,92,88,84,70,53,35,21,12,9,8,11,19,31,39,47,52,55,59,61,62,63,73,86,91,87,85,81,74,57,37,23,13,9,8,9,14,23,32,41,47,53,55,58,61,65,77,92,96,91,88,83,69,50,32,18,10,7,7,10,19,32,43,52,57,61,63,66,70,74,83,95,100,96,93,88,70,49,30,16,10,7,7,12,21,32,44,51,57,60,64,65,68,72,82,95,97,96,88,81,69,50,32,17,10,8,7,11,21,34,44,49,54,59,60,62,67,67,78,89,93,90,87,82,70,50,30,16,10,7,8,11,20,33,42,51,55,58,61,64,69,68,80,93,94,90,89,83,71,53,34,19,11,7,7,11,21,32,43,49,55,57,60,62,66,70,77,90,93,91,88,84,70,53,36,21,13,8,7,10,17,28,38,45,50,53,58,58,61,63,73,86,86,86,82,80,71,54,36,22,13,8,7,8,13,23,31,41,47,52,54,57,61,66,76,91,99,97,91,82,74,52,33,19,11,7,6,8,14,24,34,43,51,55,57,61,63,68,78,94,98,95,89,85,68,52,30,17,9,6,6,10,19,30,39,48,52,58,60,62,63,70,82,98,100,96,93,85,69,49,29,17,9,7,7,10,18,30,39,48,54,56,61,62,63,66,80,92,99,95,91,85,70,48,29,16,10,7,7,10,18,28,39,47,54,56,60,61,65,68,76,93,97,95,92,83,67,49,30,16,10,7,7,11,19,30,40,47,52,54,57,60,63,66,73,87,94,91,86,82,69,50,33,20,12,8,8,10,17,27,38,46,51,55,57,59,56,64,72,88,94,90,84,80,69,53,35,22,13,8,7,8,13,21,32,40,47,52,51,57,59,64,76,90,96],\"Search_Trends\":[80,80,76,66,53,33,19,12,8,6,9,13,21,30,38,41,45,50,53,54,60,68,83,89,88,85,80,69,56,36,22,13,8,7,9,16,25,36,45,51,55,57,58,62,65,72,86,91,87,82,78,72,55,38,24,14,9,7,8,13,22,31,39,45,50,54,57,61,66,77,90,94,89,84,78,68,51,32,18,11,7,6,9,18,29,40,48,56,58,60,62,67,71,83,95,98,119,110,103,89,71,44,23,13,9,9,13,24,38,49,61,66,70,76,79,84,93,105,124,125,98,92,87,74,58,33,18,10,7,8,11,20,32,44,51,57,57,60,61,65,69,79,94,97,95,88,85,71,52,33,18,11,8,8,12,20,32,42,48,54,56,58,62,64,70,80,92,94,93,89,83,70,50,32,17,11,8,8,12,21,34,43,51,54,58,58,61,64,65,74,89,90,86,83,80,68,54,33,19,12,8,8,10,18,29,38,47,51,54,56,58,58,62,69,84,89,83,80,74,67,51,36,21,12,8,7,7,12,21,28,35,41,43,46,50,53,58,71,85,90,85,83,77,64,49,30,18,11,7,7,9,18,29,39,47,54,58,61,63,65,72,82,97,98,95,91,86,70,52,30,16,10,7,6,11,20,31,39,50,54,56,60,62,66,72,83,94,100,95,92,86,70,51,31,17,10,7,7,10,20,33,43,50,55,58,61,64,68,72,82,93,99,95,89,85,70,51,30,17,10,7,7,10,20,32,42,50,55,59,61,63,64,71,81,94,97,94,90,84,71,50,31,17,10,7,7,11,21,34,43,50,54,58,60,60,65,68,75,89,94,92,88,84,70,53,35,21,12,9,8,11,19,31,39,47,52,55,59,61,62,63,73,86,91,87,85,81,74,57,37,23,13,9,8,9,14,23,32,41,47,53,55,58,61,65,77,92,96,91,88,83,69,50,32,18,10,7,7,10,19,32,43,52,57,61,63,66,70,74,83,95,100,96,93,88,70,49,30,16,10,7,7,12,21,32,44,51,57,60,64,65,68,72,82,95,97,96,88,81,69,50,32,17,10,8,7,11,21,34,44,49,54,59,60,62,67,67,78,89,93,90,87,82,70,50,30,16,10,7,8,11,20,33,42,51,55,58,61,64,69,68,80,93,94,90,89,83,71,53,34,19,11,7,7,11,21,32,43,49,55,57,60,62,66,70,77,90,93,91,88,84,70,53,36,21,13,8,7,10,17,28,38,45,50,53,58,58,61,63,73,86,86,86,82,80,71,54,36,22,13,8,7,8,13,23,31,41,47,52,54,57,61,66,76,91,99,97,91,82,74,52,33,19,11,7,6,8,14,24,34,43,51,55,57,61,63,68,78,94,98,95,89,85,68,52,30,17,9,6,6,10,19,30,39,48,52,58,60,62,63,70,82,98,100,96,93,85,69,49,29,17,9,7,7,10,18,30,39,48,54,56,61,62,63,66,80,92,99,95,91,85,70,48,29,16,10,7,7,10,18,28,39,47,54,56,60,61,65,68,76,93,97,95,92,83,67,49,30,16,10,7,7,11,19,30,40,47,52,54,57,60,63,66,73,87,94,91,86,82,69,50,33,20,12,8,8,10,17,27,38,46,51,55,57,59,56,64,72,88,94,90,84,80,69,53,35,22,13,8,7,8,13,21,32,40,47,52,51,57,59,64,76,90,96]},\"selected\":{\"id\":\"1038\"},\"selection_policy\":{\"id\":\"1059\"}},\"id\":\"1037\",\"type\":\"ColumnDataSource\"},{\"attributes\":{\"line_color\":\"#30a2da\",\"line_width\":2,\"x\":{\"field\":\"Date\"},\"y\":{\"field\":\"Search Trends\"}},\"id\":\"1045\",\"type\":\"Line\"},{\"attributes\":{\"num_minor_ticks\":5,\"tickers\":[{\"id\":\"1062\"},{\"id\":\"1063\"},{\"id\":\"1064\"},{\"id\":\"1065\"},{\"id\":\"1066\"},{\"id\":\"1067\"},{\"id\":\"1068\"},{\"id\":\"1069\"},{\"id\":\"1070\"},{\"id\":\"1071\"},{\"id\":\"1072\"},{\"id\":\"1073\"}]},\"id\":\"1017\",\"type\":\"DatetimeTicker\"},{\"attributes\":{\"months\":[0,4,8]},\"id\":\"1071\",\"type\":\"MonthsTicker\"},{\"attributes\":{\"children\":[{\"id\":\"1003\"},{\"id\":\"1007\"},{\"id\":\"1096\"}],\"margin\":[0,0,0,0],\"name\":\"Row01626\",\"tags\":[\"embedded\"]},\"id\":\"1002\",\"type\":\"Row\"},{\"attributes\":{\"coordinates\":null,\"data_source\":{\"id\":\"1037\"},\"glyph\":{\"id\":\"1040\"},\"group\":null,\"hover_glyph\":null,\"muted_glyph\":{\"id\":\"1042\"},\"nonselection_glyph\":{\"id\":\"1041\"},\"selection_glyph\":{\"id\":\"1045\"},\"view\":{\"id\":\"1044\"}},\"id\":\"1043\",\"type\":\"GlyphRenderer\"},{\"attributes\":{},\"id\":\"1050\",\"type\":\"BasicTickFormatter\"},{\"attributes\":{\"mantissas\":[1,2,5],\"max_interval\":500.0,\"num_minor_ticks\":0},\"id\":\"1062\",\"type\":\"AdaptiveTicker\"},{\"attributes\":{\"months\":[0,6]},\"id\":\"1072\",\"type\":\"MonthsTicker\"},{\"attributes\":{\"line_color\":\"#30a2da\",\"line_width\":2,\"x\":{\"field\":\"Date\"},\"y\":{\"field\":\"Search Trends\"}},\"id\":\"1040\",\"type\":\"Line\"},{\"attributes\":{\"axis_label\":\"Date\",\"coordinates\":null,\"formatter\":{\"id\":\"1047\"},\"group\":null,\"major_label_policy\":{\"id\":\"1048\"},\"ticker\":{\"id\":\"1017\"}},\"id\":\"1016\",\"type\":\"DatetimeAxis\"},{\"attributes\":{\"end\":1590966000000.0,\"reset_end\":1590966000000.0,\"reset_start\":1588291200000.0,\"start\":1588291200000.0,\"tags\":[[[\"Date\",\"Date\",null]]]},\"id\":\"1004\",\"type\":\"Range1d\"},{\"attributes\":{\"line_alpha\":0.2,\"line_color\":\"#30a2da\",\"line_width\":2,\"x\":{\"field\":\"Date\"},\"y\":{\"field\":\"Search Trends\"}},\"id\":\"1042\",\"type\":\"Line\"},{\"attributes\":{},\"id\":\"1047\",\"type\":\"DatetimeTickFormatter\"},{\"attributes\":{},\"id\":\"1073\",\"type\":\"YearsTicker\"},{\"attributes\":{\"axis\":{\"id\":\"1020\"},\"coordinates\":null,\"dimension\":1,\"grid_line_color\":null,\"group\":null,\"ticker\":null},\"id\":\"1023\",\"type\":\"Grid\"},{\"attributes\":{\"margin\":[5,5,5,5],\"name\":\"HSpacer01630\",\"sizing_mode\":\"stretch_width\"},\"id\":\"1003\",\"type\":\"Spacer\"},{\"attributes\":{\"axis_label\":\"Search Trends\",\"coordinates\":null,\"formatter\":{\"id\":\"1050\"},\"group\":null,\"major_label_policy\":{\"id\":\"1051\"},\"ticker\":{\"id\":\"1021\"}},\"id\":\"1020\",\"type\":\"LinearAxis\"},{\"attributes\":{\"line_alpha\":0.1,\"line_color\":\"#30a2da\",\"line_width\":2,\"x\":{\"field\":\"Date\"},\"y\":{\"field\":\"Search Trends\"}},\"id\":\"1041\",\"type\":\"Line\"},{\"attributes\":{},\"id\":\"1051\",\"type\":\"AllLabels\"}],\"root_ids\":[\"1002\"]},\"title\":\"Bokeh Application\",\"version\":\"2.4.2\"}};\n",
       "    var render_items = [{\"docid\":\"340c423d-d628-4f3c-9c02-b5f066518b80\",\"root_ids\":[\"1002\"],\"roots\":{\"1002\":\"f15b3499-dd50-43d3-b9b4-10a00311a582\"}}];\n",
       "    root.Bokeh.embed.embed_items_notebook(docs_json, render_items);\n",
       "  }\n",
       "  if (root.Bokeh !== undefined && root.Bokeh.Panel !== undefined) {\n",
       "    embed_document(root);\n",
       "  } else {\n",
       "    var attempts = 0;\n",
       "    var timer = setInterval(function(root) {\n",
       "      if (root.Bokeh !== undefined && root.Bokeh.Panel !== undefined) {\n",
       "        clearInterval(timer);\n",
       "        embed_document(root);\n",
       "      } else if (document.readyState == \"complete\") {\n",
       "        attempts++;\n",
       "        if (attempts > 200) {\n",
       "          clearInterval(timer);\n",
       "          console.log(\"Bokeh: ERROR: Unable to run BokehJS code because BokehJS library is missing\");\n",
       "        }\n",
       "      }\n",
       "    }, 25, root)\n",
       "  }\n",
       "})(window);</script>"
      ],
      "text/plain": [
       ":Curve   [Date]   (Search Trends)"
      ]
     },
     "execution_count": 5,
     "metadata": {
      "application/vnd.holoviews_exec.v0+json": {
       "id": "1002"
      }
     },
     "output_type": "execute_result"
    }
   ],
   "source": [
    "# Slice the DataFrame to just the month of May 2020\n",
    "df_may_2020 = df_mercado_trends.loc['2020-05-01':'2020-05-31']\n",
    "\n",
    "# Use hvPlot to visualize the data for May 2020\n",
    "df_may_2020.hvplot(title='Mercado Search Trends -- May 2020')\n"
   ]
  },
  {
   "cell_type": "markdown",
   "metadata": {},
   "source": [
    "#### Step 2: Calculate the total search traffic for the month, and then compare the value to the monthly median across all months. Did the Google search traffic increase during the month that MercadoLibre released its financial results?"
   ]
  },
  {
   "cell_type": "code",
   "execution_count": 16,
   "metadata": {},
   "outputs": [
    {
     "data": {
      "text/plain": [
       "38181"
      ]
     },
     "execution_count": 16,
     "metadata": {},
     "output_type": "execute_result"
    }
   ],
   "source": [
    "# Calculate the sum of the total search traffic for May 2020\n",
    "traffic_may_2020 = df_may_2020['Search Trends'].sum()\n",
    "\n",
    "# View the traffic_may_2020 value\n",
    "traffic_may_2020\n"
   ]
  },
  {
   "cell_type": "code",
   "execution_count": 17,
   "metadata": {},
   "outputs": [
    {
     "data": {
      "text/plain": [
       "35172.5"
      ]
     },
     "execution_count": 17,
     "metadata": {},
     "output_type": "execute_result"
    }
   ],
   "source": [
    "# Calcluate the monhtly median search traffic across all months \n",
    "# Group the DataFrame by index year and then index month, chain the sum and then the median functions\n",
    "median_monthly_traffic = df_mercado_trends['Search Trends'].groupby(by=[df_mercado_trends.index.year, df_mercado_trends.index.month]).sum().median()\n",
    "\n",
    "# View the median_monthly_traffic value\n",
    "median_monthly_traffic"
   ]
  },
  {
   "cell_type": "code",
   "execution_count": 18,
   "metadata": {},
   "outputs": [
    {
     "data": {
      "text/plain": [
       "True"
      ]
     },
     "execution_count": 18,
     "metadata": {},
     "output_type": "execute_result"
    }
   ],
   "source": [
    "# Compare the seach traffic for the month of May 2020 to the overall monthly median value\n",
    "traffic_may_2020 > median_monthly_traffic"
   ]
  },
  {
   "cell_type": "markdown",
   "metadata": {},
   "source": [
    "##### Answer the following question: "
   ]
  },
  {
   "cell_type": "markdown",
   "metadata": {},
   "source": [
    "**Question:** Did the Google search traffic increase during the month that MercadoLibre released its financial results?\n",
    "\n",
    "**Answer:**. \n",
    "The traffic in May 2020 was `38181`, which is `8.55%` higher than the median monthly traffic of `35172.5`.  "
   ]
  },
  {
   "cell_type": "markdown",
   "metadata": {},
   "source": [
    "## Step 2: Mine the Search Traffic Data for Seasonality\n",
    "\n",
    "Marketing realizes that they can use the hourly search data, too. If they can track and predict interest in the company and its platform for any time of day, they can focus their marketing efforts around the times that have the most traffic. This will get a greater return on investment (ROI) from their marketing budget.\n",
    "\n",
    "To that end, you want to mine the search traffic data for predictable seasonal patterns of interest in the company. To do so, complete the following steps:\n",
    "\n",
    "1. Group the hourly search data to plot the average traffic by the day of the week (for example, Monday vs. Friday).\n",
    "\n",
    "2. Using hvPlot, visualize this traffic as a heatmap, referencing the `index.hour` as the x-axis and the `index.dayofweek` as the y-axis. Does any day-of-week effect that you observe concentrate in just a few hours of that day?\n",
    "\n",
    "3. Group the search data by the week of the year. Does the search traffic tend to increase during the winter holiday period (weeks 40 through 52)?\n"
   ]
  },
  {
   "cell_type": "markdown",
   "metadata": {},
   "source": [
    "#### Step 1: Group the hourly search data to plot the average traffic by the day of the week (for example, Monday vs. Friday)."
   ]
  },
  {
   "cell_type": "code",
   "execution_count": 27,
   "metadata": {},
   "outputs": [
    {
     "data": {},
     "metadata": {},
     "output_type": "display_data"
    },
    {
     "data": {
      "application/vnd.holoviews_exec.v0+json": "",
      "text/html": [
       "<div id='1696'>\n",
       "\n",
       "\n",
       "\n",
       "\n",
       "\n",
       "  <div class=\"bk-root\" id=\"04aeaf01-61a4-48a2-a790-be622730c79d\" data-root-id=\"1696\"></div>\n",
       "</div>\n",
       "<script type=\"application/javascript\">(function(root) {\n",
       "  function embed_document(root) {\n",
       "    var docs_json = {\"4520a063-fffe-4e0a-a9a0-58850f24664b\":{\"defs\":[{\"extends\":null,\"module\":null,\"name\":\"ReactiveHTML1\",\"overrides\":[],\"properties\":[]},{\"extends\":null,\"module\":null,\"name\":\"FlexBox1\",\"overrides\":[],\"properties\":[{\"default\":\"flex-start\",\"kind\":null,\"name\":\"align_content\"},{\"default\":\"flex-start\",\"kind\":null,\"name\":\"align_items\"},{\"default\":\"row\",\"kind\":null,\"name\":\"flex_direction\"},{\"default\":\"wrap\",\"kind\":null,\"name\":\"flex_wrap\"},{\"default\":\"flex-start\",\"kind\":null,\"name\":\"justify_content\"}]},{\"extends\":null,\"module\":null,\"name\":\"TemplateActions1\",\"overrides\":[],\"properties\":[{\"default\":0,\"kind\":null,\"name\":\"open_modal\"},{\"default\":0,\"kind\":null,\"name\":\"close_modal\"}]},{\"extends\":null,\"module\":null,\"name\":\"MaterialTemplateActions1\",\"overrides\":[],\"properties\":[{\"default\":0,\"kind\":null,\"name\":\"open_modal\"},{\"default\":0,\"kind\":null,\"name\":\"close_modal\"}]}],\"roots\":{\"references\":[{\"attributes\":{\"end\":6.0,\"reset_end\":6.0,\"reset_start\":0.0,\"tags\":[[[\"Date\",\"Date\",null]]]},\"id\":\"1698\",\"type\":\"Range1d\"},{\"attributes\":{\"tools\":[{\"id\":\"1700\"},{\"id\":\"1718\"},{\"id\":\"1719\"},{\"id\":\"1720\"},{\"id\":\"1721\"},{\"id\":\"1722\"}]},\"id\":\"1724\",\"type\":\"Toolbar\"},{\"attributes\":{\"children\":[{\"id\":\"1697\"},{\"id\":\"1701\"},{\"id\":\"1766\"}],\"margin\":[0,0,0,0],\"name\":\"Row02516\",\"tags\":[\"embedded\"]},\"id\":\"1696\",\"type\":\"Row\"},{\"attributes\":{},\"id\":\"1718\",\"type\":\"SaveTool\"},{\"attributes\":{\"line_color\":\"#30a2da\",\"line_width\":2,\"x\":{\"field\":\"Date\"},\"y\":{\"field\":\"Search Trends\"}},\"id\":\"1734\",\"type\":\"Line\"},{\"attributes\":{},\"id\":\"1719\",\"type\":\"PanTool\"},{\"attributes\":{\"margin\":[5,5,5,5],\"name\":\"HSpacer02520\",\"sizing_mode\":\"stretch_width\"},\"id\":\"1697\",\"type\":\"Spacer\"},{\"attributes\":{\"end\":51.313718571343294,\"reset_end\":51.313718571343294,\"reset_start\":42.409160096969615,\"start\":42.409160096969615,\"tags\":[[[\"Search Trends\",\"Search Trends\",null]]]},\"id\":\"1699\",\"type\":\"Range1d\"},{\"attributes\":{},\"id\":\"1720\",\"type\":\"WheelZoomTool\"},{\"attributes\":{},\"id\":\"1753\",\"type\":\"UnionRenderers\"},{\"attributes\":{\"line_color\":\"#30a2da\",\"line_width\":2,\"x\":{\"field\":\"Date\"},\"y\":{\"field\":\"Search Trends\"}},\"id\":\"1739\",\"type\":\"Line\"},{\"attributes\":{\"coordinates\":null,\"group\":null,\"text\":\"Avg Traffic By Day Of Week -- Monday=0, Sunday=6\",\"text_color\":\"black\",\"text_font_size\":\"12pt\"},\"id\":\"1702\",\"type\":\"Title\"},{\"attributes\":{\"overlay\":{\"id\":\"1723\"}},\"id\":\"1721\",\"type\":\"BoxZoomTool\"},{\"attributes\":{},\"id\":\"1708\",\"type\":\"LinearScale\"},{\"attributes\":{},\"id\":\"1732\",\"type\":\"Selection\"},{\"attributes\":{\"margin\":[5,5,5,5],\"name\":\"HSpacer02521\",\"sizing_mode\":\"stretch_width\"},\"id\":\"1766\",\"type\":\"Spacer\"},{\"attributes\":{},\"id\":\"1744\",\"type\":\"BasicTickFormatter\"},{\"attributes\":{\"axis\":{\"id\":\"1714\"},\"coordinates\":null,\"dimension\":1,\"grid_line_color\":null,\"group\":null,\"ticker\":null},\"id\":\"1717\",\"type\":\"Grid\"},{\"attributes\":{},\"id\":\"1722\",\"type\":\"ResetTool\"},{\"attributes\":{\"source\":{\"id\":\"1731\"}},\"id\":\"1738\",\"type\":\"CDSView\"},{\"attributes\":{},\"id\":\"1706\",\"type\":\"LinearScale\"},{\"attributes\":{\"callback\":null,\"renderers\":[{\"id\":\"1737\"}],\"tags\":[\"hv_created\"],\"tooltips\":[[\"Date\",\"@{Date}\"],[\"Search Trends\",\"@{Search_Trends}\"]]},\"id\":\"1700\",\"type\":\"HoverTool\"},{\"attributes\":{\"bottom_units\":\"screen\",\"coordinates\":null,\"fill_alpha\":0.5,\"fill_color\":\"lightgrey\",\"group\":null,\"left_units\":\"screen\",\"level\":\"overlay\",\"line_alpha\":1.0,\"line_color\":\"black\",\"line_dash\":[4,4],\"line_width\":2,\"right_units\":\"screen\",\"syncable\":false,\"top_units\":\"screen\"},\"id\":\"1723\",\"type\":\"BoxAnnotation\"},{\"attributes\":{\"axis_label\":\"Day\",\"coordinates\":null,\"formatter\":{\"id\":\"1741\"},\"group\":null,\"major_label_policy\":{\"id\":\"1742\"},\"ticker\":{\"id\":\"1711\"}},\"id\":\"1710\",\"type\":\"LinearAxis\"},{\"attributes\":{},\"id\":\"1741\",\"type\":\"BasicTickFormatter\"},{\"attributes\":{},\"id\":\"1711\",\"type\":\"BasicTicker\"},{\"attributes\":{\"axis\":{\"id\":\"1710\"},\"coordinates\":null,\"grid_line_color\":null,\"group\":null,\"ticker\":null},\"id\":\"1713\",\"type\":\"Grid\"},{\"attributes\":{},\"id\":\"1715\",\"type\":\"BasicTicker\"},{\"attributes\":{\"axis_label\":\"Avg Hourly Traffic\",\"coordinates\":null,\"formatter\":{\"id\":\"1744\"},\"group\":null,\"major_label_policy\":{\"id\":\"1745\"},\"ticker\":{\"id\":\"1715\"}},\"id\":\"1714\",\"type\":\"LinearAxis\"},{\"attributes\":{},\"id\":\"1745\",\"type\":\"AllLabels\"},{\"attributes\":{\"line_alpha\":0.2,\"line_color\":\"#30a2da\",\"line_width\":2,\"x\":{\"field\":\"Date\"},\"y\":{\"field\":\"Search Trends\"}},\"id\":\"1736\",\"type\":\"Line\"},{\"attributes\":{\"below\":[{\"id\":\"1710\"}],\"center\":[{\"id\":\"1713\"},{\"id\":\"1717\"}],\"height\":300,\"left\":[{\"id\":\"1714\"}],\"margin\":[5,5,5,5],\"min_border_bottom\":10,\"min_border_left\":10,\"min_border_right\":10,\"min_border_top\":10,\"renderers\":[{\"id\":\"1737\"}],\"sizing_mode\":\"fixed\",\"title\":{\"id\":\"1702\"},\"toolbar\":{\"id\":\"1724\"},\"width\":700,\"x_range\":{\"id\":\"1698\"},\"x_scale\":{\"id\":\"1706\"},\"y_range\":{\"id\":\"1699\"},\"y_scale\":{\"id\":\"1708\"}},\"id\":\"1701\",\"subtype\":\"Figure\",\"type\":\"Plot\"},{\"attributes\":{\"coordinates\":null,\"data_source\":{\"id\":\"1731\"},\"glyph\":{\"id\":\"1734\"},\"group\":null,\"hover_glyph\":null,\"muted_glyph\":{\"id\":\"1736\"},\"nonselection_glyph\":{\"id\":\"1735\"},\"selection_glyph\":{\"id\":\"1739\"},\"view\":{\"id\":\"1738\"}},\"id\":\"1737\",\"type\":\"GlyphRenderer\"},{\"attributes\":{\"line_alpha\":0.1,\"line_color\":\"#30a2da\",\"line_width\":2,\"x\":{\"field\":\"Date\"},\"y\":{\"field\":\"Search Trends\"}},\"id\":\"1735\",\"type\":\"Line\"},{\"attributes\":{},\"id\":\"1742\",\"type\":\"AllLabels\"},{\"attributes\":{\"data\":{\"Date\":[0,1,2,3,4,5,6],\"Search Trends\":{\"__ndarray__\":\"iesSievCSEDmVZSMLElJQETIGv0bHElAe47Jeo7ZSEBDfi9Dfk9IQFsMIFsMkEZAvVozvVqTRUA=\",\"dtype\":\"float64\",\"order\":\"little\",\"shape\":[7]},\"Search_Trends\":{\"__ndarray__\":\"iesSievCSEDmVZSMLElJQETIGv0bHElAe47Jeo7ZSEBDfi9Dfk9IQFsMIFsMkEZAvVozvVqTRUA=\",\"dtype\":\"float64\",\"order\":\"little\",\"shape\":[7]}},\"selected\":{\"id\":\"1732\"},\"selection_policy\":{\"id\":\"1753\"}},\"id\":\"1731\",\"type\":\"ColumnDataSource\"}],\"root_ids\":[\"1696\"]},\"title\":\"Bokeh Application\",\"version\":\"2.4.2\"}};\n",
       "    var render_items = [{\"docid\":\"4520a063-fffe-4e0a-a9a0-58850f24664b\",\"root_ids\":[\"1696\"],\"roots\":{\"1696\":\"04aeaf01-61a4-48a2-a790-be622730c79d\"}}];\n",
       "    root.Bokeh.embed.embed_items_notebook(docs_json, render_items);\n",
       "  }\n",
       "  if (root.Bokeh !== undefined && root.Bokeh.Panel !== undefined) {\n",
       "    embed_document(root);\n",
       "  } else {\n",
       "    var attempts = 0;\n",
       "    var timer = setInterval(function(root) {\n",
       "      if (root.Bokeh !== undefined && root.Bokeh.Panel !== undefined) {\n",
       "        clearInterval(timer);\n",
       "        embed_document(root);\n",
       "      } else if (document.readyState == \"complete\") {\n",
       "        attempts++;\n",
       "        if (attempts > 200) {\n",
       "          clearInterval(timer);\n",
       "          console.log(\"Bokeh: ERROR: Unable to run BokehJS code because BokehJS library is missing\");\n",
       "        }\n",
       "      }\n",
       "    }, 25, root)\n",
       "  }\n",
       "})(window);</script>"
      ],
      "text/plain": [
       ":Curve   [Date]   (Search Trends)"
      ]
     },
     "execution_count": 27,
     "metadata": {
      "application/vnd.holoviews_exec.v0+json": {
       "id": "1696"
      }
     },
     "output_type": "execute_result"
    }
   ],
   "source": [
    "# Group the hourly search data to plot (use hvPlot) the average traffic by the day of week \n",
    "avg_traffic_by_day_of_week = df_mercado_trends['Search Trends'].groupby(by=[df_mercado_trends.index.dayofweek]).mean()\n",
    "avg_traffic_by_day_of_week.hvplot(title='Avg Traffic By Day Of Week -- Monday=0, Sunday=6', xlabel='Day', ylabel='Avg Hourly Traffic')"
   ]
  },
  {
   "cell_type": "markdown",
   "metadata": {},
   "source": [
    "#### Step 2: Using hvPlot, visualize this traffic as a heatmap, referencing the `index.hour` as the x-axis and the `index.dayofweek` as the y-axis. Does any day-of-week effect that you observe concentrate in just a few hours of that day?"
   ]
  },
  {
   "cell_type": "code",
   "execution_count": 34,
   "metadata": {},
   "outputs": [
    {
     "data": {},
     "metadata": {},
     "output_type": "display_data"
    },
    {
     "data": {
      "application/vnd.holoviews_exec.v0+json": "",
      "text/html": [
       "<div id='2082'>\n",
       "\n",
       "\n",
       "\n",
       "\n",
       "\n",
       "  <div class=\"bk-root\" id=\"309fbdbe-ed9b-40f4-96af-950fbb16878f\" data-root-id=\"2082\"></div>\n",
       "</div>\n",
       "<script type=\"application/javascript\">(function(root) {\n",
       "  function embed_document(root) {\n",
       "    var docs_json = {\"ea03027b-4fa9-47ec-91a6-78899081edf1\":{\"defs\":[{\"extends\":null,\"module\":null,\"name\":\"ReactiveHTML1\",\"overrides\":[],\"properties\":[]},{\"extends\":null,\"module\":null,\"name\":\"FlexBox1\",\"overrides\":[],\"properties\":[{\"default\":\"flex-start\",\"kind\":null,\"name\":\"align_content\"},{\"default\":\"flex-start\",\"kind\":null,\"name\":\"align_items\"},{\"default\":\"row\",\"kind\":null,\"name\":\"flex_direction\"},{\"default\":\"wrap\",\"kind\":null,\"name\":\"flex_wrap\"},{\"default\":\"flex-start\",\"kind\":null,\"name\":\"justify_content\"}]},{\"extends\":null,\"module\":null,\"name\":\"TemplateActions1\",\"overrides\":[],\"properties\":[{\"default\":0,\"kind\":null,\"name\":\"open_modal\"},{\"default\":0,\"kind\":null,\"name\":\"close_modal\"}]},{\"extends\":null,\"module\":null,\"name\":\"MaterialTemplateActions1\",\"overrides\":[],\"properties\":[{\"default\":0,\"kind\":null,\"name\":\"open_modal\"},{\"default\":0,\"kind\":null,\"name\":\"close_modal\"}]}],\"roots\":{\"references\":[{\"attributes\":{\"axis\":{\"id\":\"2100\"},\"coordinates\":null,\"dimension\":1,\"grid_line_color\":null,\"group\":null,\"ticker\":null},\"id\":\"2103\",\"type\":\"Grid\"},{\"attributes\":{\"bar_line_color\":\"black\",\"color_mapper\":{\"id\":\"2117\"},\"coordinates\":null,\"group\":null,\"label_standoff\":8,\"location\":[0,0],\"major_label_policy\":{\"id\":\"2139\"},\"major_tick_line_color\":\"black\",\"ticker\":{\"id\":\"2127\"}},\"id\":\"2128\",\"type\":\"ColorBar\"},{\"attributes\":{},\"id\":\"2104\",\"type\":\"SaveTool\"},{\"attributes\":{\"axis_label\":\"index.dayofweek\",\"coordinates\":null,\"formatter\":{\"id\":\"2133\"},\"group\":null,\"major_label_policy\":{\"id\":\"2134\"},\"ticker\":{\"id\":\"2101\"}},\"id\":\"2100\",\"type\":\"LinearAxis\"},{\"attributes\":{},\"id\":\"2106\",\"type\":\"WheelZoomTool\"},{\"attributes\":{\"below\":[{\"id\":\"2096\"}],\"center\":[{\"id\":\"2099\"},{\"id\":\"2103\"}],\"height\":300,\"left\":[{\"id\":\"2100\"}],\"margin\":[5,5,5,5],\"min_border_bottom\":10,\"min_border_left\":10,\"min_border_right\":10,\"min_border_top\":10,\"renderers\":[{\"id\":\"2125\"}],\"right\":[{\"id\":\"2128\"}],\"sizing_mode\":\"fixed\",\"title\":{\"id\":\"2088\"},\"toolbar\":{\"id\":\"2110\"},\"width\":700,\"x_range\":{\"id\":\"2084\"},\"x_scale\":{\"id\":\"2092\"},\"y_range\":{\"id\":\"2085\"},\"y_scale\":{\"id\":\"2094\"}},\"id\":\"2087\",\"subtype\":\"Figure\",\"type\":\"Plot\"},{\"attributes\":{},\"id\":\"2094\",\"type\":\"LinearScale\"},{\"attributes\":{\"data\":{\"Search_Trends\":[\"86.923\",\"94.9\",\"92.45\",\"91.394\",\"89.787\",\"84.452\",\"78.344\",\"81.977\",\"90.164\",\"88.439\",\"87.176\",\"85.824\",\"81.493\",\"75.81\",\"74.489\",\"80.659\",\"79.271\",\"78.357\",\"77.335\",\"74.588\",\"70.258\",\"60.742\",\"63.523\",\"62.968\",\"62.244\",\"61.878\",\"62.086\",\"60.244\",\"42.38\",\"43.332\",\"42.955\",\"42.742\",\"43.054\",\"45.493\",\"46.086\",\"25.303\",\"25.041\",\"24.805\",\"24.959\",\"25.321\",\"28.656\",\"30.756\",\"13.38\",\"13.227\",\"13.109\",\"13.249\",\"13.552\",\"16.443\",\"18.253\",\"7.6742\",\"7.6455\",\"7.552\",\"7.7149\",\"7.9276\",\"9.6154\",\"10.471\",\"5.5747\",\"5.9364\",\"5.8959\",\"5.9638\",\"6.1493\",\"6.7738\",\"6.7602\",\"6.7964\",\"7.7727\",\"7.8552\",\"7.9321\",\"8.086\",\"7.2579\",\"5.9955\",\"12.014\",\"13.991\",\"14.231\",\"14.226\",\"14.398\",\"11.679\",\"8.3665\",\"22.186\",\"24.891\",\"25.186\",\"25.231\",\"25.154\",\"20.339\",\"14.688\",\"34.045\",\"36.336\",\"36.756\",\"36.633\",\"36.561\",\"30.484\",\"23.367\",\"43.014\",\"44.2\",\"44.756\",\"44.493\",\"44.339\",\"38.959\",\"31.792\",\"50.104\",\"50.505\",\"50.928\",\"50.376\",\"50.014\",\"44.475\",\"38.267\",\"54.579\",\"54.45\",\"54.584\",\"53.869\",\"53.24\",\"47.584\",\"42.326\",\"56.597\",\"56.277\",\"56.299\",\"55.579\",\"54.543\",\"49.416\",\"44.638\",\"59.548\",\"58.964\",\"58.842\",\"58.249\",\"56.995\",\"51.095\",\"46.995\",\"61.661\",\"60.686\",\"60.792\",\"60.48\",\"59.163\",\"51.973\",\"48.878\",\"63.914\",\"62.75\",\"62.584\",\"62.484\",\"61.113\",\"53.054\",\"50.615\",\"67.543\",\"66.036\",\"65.597\",\"65.452\",\"63.158\",\"55.855\",\"54.878\",\"75.48\",\"73.677\",\"73.014\",\"71.959\",\"68.448\",\"62.176\",\"63.887\",\"87.48\",\"85.582\",\"84.376\",\"82.502\",\"77.204\",\"71.199\",\"77.122\",\"95.145\",\"92.973\",\"91.837\",\"89.525\",\"83.661\",\"77.86\",\"86.833\"],\"height\":{\"__ndarray__\":\"AAAAAAAA8D8AAAAAAADwPwAAAAAAAPA/AAAAAAAA8D8AAAAAAADwPwAAAAAAAPA/AAAAAAAA8D8AAAAAAADwPwAAAAAAAPA/AAAAAAAA8D8AAAAAAADwPwAAAAAAAPA/AAAAAAAA8D8AAAAAAADwPwAAAAAAAPA/AAAAAAAA8D8AAAAAAADwPwAAAAAAAPA/AAAAAAAA8D8AAAAAAADwPwAAAAAAAPA/AAAAAAAA8D8AAAAAAADwPwAAAAAAAPA/AAAAAAAA8D8AAAAAAADwPwAAAAAAAPA/AAAAAAAA8D8AAAAAAADwPwAAAAAAAPA/AAAAAAAA8D8AAAAAAADwPwAAAAAAAPA/AAAAAAAA8D8AAAAAAADwPwAAAAAAAPA/AAAAAAAA8D8AAAAAAADwPwAAAAAAAPA/AAAAAAAA8D8AAAAAAADwPwAAAAAAAPA/AAAAAAAA8D8AAAAAAADwPwAAAAAAAPA/AAAAAAAA8D8AAAAAAADwPwAAAAAAAPA/AAAAAAAA8D8AAAAAAADwPwAAAAAAAPA/AAAAAAAA8D8AAAAAAADwPwAAAAAAAPA/AAAAAAAA8D8AAAAAAADwPwAAAAAAAPA/AAAAAAAA8D8AAAAAAADwPwAAAAAAAPA/AAAAAAAA8D8AAAAAAADwPwAAAAAAAPA/AAAAAAAA8D8AAAAAAADwPwAAAAAAAPA/AAAAAAAA8D8AAAAAAADwPwAAAAAAAPA/AAAAAAAA8D8AAAAAAADwPwAAAAAAAPA/AAAAAAAA8D8AAAAAAADwPwAAAAAAAPA/AAAAAAAA8D8AAAAAAADwPwAAAAAAAPA/AAAAAAAA8D8AAAAAAADwPwAAAAAAAPA/AAAAAAAA8D8AAAAAAADwPwAAAAAAAPA/AAAAAAAA8D8AAAAAAADwPwAAAAAAAPA/AAAAAAAA8D8AAAAAAADwPwAAAAAAAPA/AAAAAAAA8D8AAAAAAADwPwAAAAAAAPA/AAAAAAAA8D8AAAAAAADwPwAAAAAAAPA/AAAAAAAA8D8AAAAAAADwPwAAAAAAAPA/AAAAAAAA8D8AAAAAAADwPwAAAAAAAPA/AAAAAAAA8D8AAAAAAADwPwAAAAAAAPA/AAAAAAAA8D8AAAAAAADwPwAAAAAAAPA/AAAAAAAA8D8AAAAAAADwPwAAAAAAAPA/AAAAAAAA8D8AAAAAAADwPwAAAAAAAPA/AAAAAAAA8D8AAAAAAADwPwAAAAAAAPA/AAAAAAAA8D8AAAAAAADwPwAAAAAAAPA/AAAAAAAA8D8AAAAAAADwPwAAAAAAAPA/AAAAAAAA8D8AAAAAAADwPwAAAAAAAPA/AAAAAAAA8D8AAAAAAADwPwAAAAAAAPA/AAAAAAAA8D8AAAAAAADwPwAAAAAAAPA/AAAAAAAA8D8AAAAAAADwPwAAAAAAAPA/AAAAAAAA8D8AAAAAAADwPwAAAAAAAPA/AAAAAAAA8D8AAAAAAADwPwAAAAAAAPA/AAAAAAAA8D8AAAAAAADwPwAAAAAAAPA/AAAAAAAA8D8AAAAAAADwPwAAAAAAAPA/AAAAAAAA8D8AAAAAAADwPwAAAAAAAPA/AAAAAAAA8D8AAAAAAADwPwAAAAAAAPA/AAAAAAAA8D8AAAAAAADwPwAAAAAAAPA/AAAAAAAA8D8AAAAAAADwPwAAAAAAAPA/AAAAAAAA8D8AAAAAAADwPwAAAAAAAPA/AAAAAAAA8D8AAAAAAADwPwAAAAAAAPA/AAAAAAAA8D8AAAAAAADwPwAAAAAAAPA/\",\"dtype\":\"float64\",\"order\":\"little\",\"shape\":[168]},\"index_full_stop_dayofweek\":[0,1,2,3,4,5,6,0,1,2,3,4,5,6,0,1,2,3,4,5,6,0,1,2,3,4,5,6,0,1,2,3,4,5,6,0,1,2,3,4,5,6,0,1,2,3,4,5,6,0,1,2,3,4,5,6,0,1,2,3,4,5,6,0,1,2,3,4,5,6,0,1,2,3,4,5,6,0,1,2,3,4,5,6,0,1,2,3,4,5,6,0,1,2,3,4,5,6,0,1,2,3,4,5,6,0,1,2,3,4,5,6,0,1,2,3,4,5,6,0,1,2,3,4,5,6,0,1,2,3,4,5,6,0,1,2,3,4,5,6,0,1,2,3,4,5,6,0,1,2,3,4,5,6,0,1,2,3,4,5,6,0,1,2,3,4,5,6],\"index_full_stop_hour\":[0,0,0,0,0,0,0,1,1,1,1,1,1,1,2,2,2,2,2,2,2,3,3,3,3,3,3,3,4,4,4,4,4,4,4,5,5,5,5,5,5,5,6,6,6,6,6,6,6,7,7,7,7,7,7,7,8,8,8,8,8,8,8,9,9,9,9,9,9,9,10,10,10,10,10,10,10,11,11,11,11,11,11,11,12,12,12,12,12,12,12,13,13,13,13,13,13,13,14,14,14,14,14,14,14,15,15,15,15,15,15,15,16,16,16,16,16,16,16,17,17,17,17,17,17,17,18,18,18,18,18,18,18,19,19,19,19,19,19,19,20,20,20,20,20,20,20,21,21,21,21,21,21,21,22,22,22,22,22,22,22,23,23,23,23,23,23,23],\"width\":{\"__ndarray__\":\"AAAAAAAA8D8AAAAAAADwPwAAAAAAAPA/AAAAAAAA8D8AAAAAAADwPwAAAAAAAPA/AAAAAAAA8D8AAAAAAADwPwAAAAAAAPA/AAAAAAAA8D8AAAAAAADwPwAAAAAAAPA/AAAAAAAA8D8AAAAAAADwPwAAAAAAAPA/AAAAAAAA8D8AAAAAAADwPwAAAAAAAPA/AAAAAAAA8D8AAAAAAADwPwAAAAAAAPA/AAAAAAAA8D8AAAAAAADwPwAAAAAAAPA/AAAAAAAA8D8AAAAAAADwPwAAAAAAAPA/AAAAAAAA8D8AAAAAAADwPwAAAAAAAPA/AAAAAAAA8D8AAAAAAADwPwAAAAAAAPA/AAAAAAAA8D8AAAAAAADwPwAAAAAAAPA/AAAAAAAA8D8AAAAAAADwPwAAAAAAAPA/AAAAAAAA8D8AAAAAAADwPwAAAAAAAPA/AAAAAAAA8D8AAAAAAADwPwAAAAAAAPA/AAAAAAAA8D8AAAAAAADwPwAAAAAAAPA/AAAAAAAA8D8AAAAAAADwPwAAAAAAAPA/AAAAAAAA8D8AAAAAAADwPwAAAAAAAPA/AAAAAAAA8D8AAAAAAADwPwAAAAAAAPA/AAAAAAAA8D8AAAAAAADwPwAAAAAAAPA/AAAAAAAA8D8AAAAAAADwPwAAAAAAAPA/AAAAAAAA8D8AAAAAAADwPwAAAAAAAPA/AAAAAAAA8D8AAAAAAADwPwAAAAAAAPA/AAAAAAAA8D8AAAAAAADwPwAAAAAAAPA/AAAAAAAA8D8AAAAAAADwPwAAAAAAAPA/AAAAAAAA8D8AAAAAAADwPwAAAAAAAPA/AAAAAAAA8D8AAAAAAADwPwAAAAAAAPA/AAAAAAAA8D8AAAAAAADwPwAAAAAAAPA/AAAAAAAA8D8AAAAAAADwPwAAAAAAAPA/AAAAAAAA8D8AAAAAAADwPwAAAAAAAPA/AAAAAAAA8D8AAAAAAADwPwAAAAAAAPA/AAAAAAAA8D8AAAAAAADwPwAAAAAAAPA/AAAAAAAA8D8AAAAAAADwPwAAAAAAAPA/AAAAAAAA8D8AAAAAAADwPwAAAAAAAPA/AAAAAAAA8D8AAAAAAADwPwAAAAAAAPA/AAAAAAAA8D8AAAAAAADwPwAAAAAAAPA/AAAAAAAA8D8AAAAAAADwPwAAAAAAAPA/AAAAAAAA8D8AAAAAAADwPwAAAAAAAPA/AAAAAAAA8D8AAAAAAADwPwAAAAAAAPA/AAAAAAAA8D8AAAAAAADwPwAAAAAAAPA/AAAAAAAA8D8AAAAAAADwPwAAAAAAAPA/AAAAAAAA8D8AAAAAAADwPwAAAAAAAPA/AAAAAAAA8D8AAAAAAADwPwAAAAAAAPA/AAAAAAAA8D8AAAAAAADwPwAAAAAAAPA/AAAAAAAA8D8AAAAAAADwPwAAAAAAAPA/AAAAAAAA8D8AAAAAAADwPwAAAAAAAPA/AAAAAAAA8D8AAAAAAADwPwAAAAAAAPA/AAAAAAAA8D8AAAAAAADwPwAAAAAAAPA/AAAAAAAA8D8AAAAAAADwPwAAAAAAAPA/AAAAAAAA8D8AAAAAAADwPwAAAAAAAPA/AAAAAAAA8D8AAAAAAADwPwAAAAAAAPA/AAAAAAAA8D8AAAAAAADwPwAAAAAAAPA/AAAAAAAA8D8AAAAAAADwPwAAAAAAAPA/AAAAAAAA8D8AAAAAAADwPwAAAAAAAPA/AAAAAAAA8D8AAAAAAADwPwAAAAAAAPA/AAAAAAAA8D8AAAAAAADwPwAAAAAAAPA/\",\"dtype\":\"float64\",\"order\":\"little\",\"shape\":[168]},\"zvalues\":{\"__ndarray__\":\"sRM7sRO7VUADoXkDoblXQM1JIC7UHFdAzzFZzzHZVkCfY7KeY3JWQJP1HJP1HFVAUQIWUQKWU0BSjT5SjX5UQEqQpwR5ilZAKxfcKhccVkBLS0tLS8tVQLW0tLS0dFVAzJDfy5BfVEBM1nNM1vNSQKlGH6lGn1JAuuiiiy4qVEAlYBElYNFTQLngVrngllNADG6VC25VU0CmpaWlpaVSQL2B0LyBkFFAhvxehvxeTkCjiy666MJPQBnyexnye09AqUYfqUYfT0CrXHCrXPBOQCkBiygBC09AqUYfqUYfTkDOpjDOpjBFQEqQpwR5qkVASTX6SDV6RUCG/F6G/F5FQELzBkLzhkVAmCG/lyG/RkApAYsoAQtHQGGcTWGcTTlASpCnBHkKOUCnMM6mMM44QB2T9RyT9ThAjT5SjT5SOUC89qe79qc8QK5ywa1ywT5AOZvCOJvCKkB00UUXXXQqQBCaNxCaNypAumt/umt/KkB9pBp9pBorQDaFcTaFcTBAaN5AaN5AMkCfY7KeY7IeQJUgTwnylB5A+kg1+kg1HkArF9wqF9weQEDdtT/dtR9AsRM7sRM7I0Dx8PDw8PAkQNZzTNZzTBZAv2HtG9a+F0AMbpULbpUXQKDu2p/u2hdAreeYrOeYGEBnUxhnUxgbQONsCuNsChtAQ34vQ34vG0AXXXTRRRcfQH+6a3+6ax9AbH+6a3+6H0CiBCyiBCwgQM0bCM0bCB1A1F370137F0BC8wZC8wYoQPuGtW9Y+ytAYid2Yid2LEBM1nNM1nMsQJHfy5DfyyxA5YJb5YJbJ0D3p7v2p7sgQEN+L0N+LzZA5ClBnhLkOEBDfi9Dfi85QLETO7ETOzlAdmIndmInOUC54Fa54FY0QBElYBElYC1At8oFt8oFQUBr37D2DStCQFe54Fa5YEJAAhZRAhZRQkCq0Ueq0UdCQBnyexnyez5A+9Nd+9NdN0DRvIHQvIFFQJqZmZmZGUZAV7ngVrlgRkCYIb+XIT9GQF1wq1xwK0ZAjsl6jsl6Q0AGt8oFt8o/QD9SjT5SDUlAIU8J8pRASUCou/anu3ZJQIkSsIgSMElA0byB0LwBSUCC0LyB0DxGQAUsogQsIkNAwCJKwCJKS0CamZmZmTlLQAa3ygW3SktAIDRvIDTvSkBksp5jsp5KQAa3ygW3ykdAjLMpjLMpRUDWc0zWc0xMQMPaN6x9I0xA6zkm6zkmTEDAIkrAIspLQJSARZSARUtA+kg1+ki1SEBIqtFHqlFGQNoUxtkUxk1A+4a1b1h7TUB/umt/umtNQO/an+7aH01Aumt/umt/TEC0KYyzKYxJQLprf7prf0dAo49Uo4/UTkA4rH3D2ldOQINb5YJbZU5Ax2Q9x2Q9TkDG2RTG2ZRNQF+G/F6G/ElAq1xwq1xwSEDX/nTX/vRPQAAAAAAAYE9ABrfKBbdKT0AN+b0M+T1PQMp6jsl6jk5AQvMGQvOGSkDsxE7sxE5JQErAIkrA4lBAgjwlyFOCUEDrOSbrOWZQQJP1HJP1XFBAgUWUgEWUT0BQd+1Pd+1LQKtccKtccEtAZLKeY7LeUkD7hrVvWGtSQGjeQGjeQFJAx2Q9x2T9UUBwq1xwqxxRQJeWlpaWFk9ANoVxNoXxT0Bksp5jst5VQCXIU4I8ZVVARAlYRAkYVUARJWARJaBUQBwIzRsITVNA+b0M+b3MUUCq0Ueq0UdTQFhECVhEyVdAnhLkKUE+V0Adk/Uck/VWQL+XIb+XYVZA0keq0UfqVEDLBbfKBXdTQPpINfpItVVA\",\"dtype\":\"float64\",\"order\":\"little\",\"shape\":[168]}},\"selected\":{\"id\":\"2119\"},\"selection_policy\":{\"id\":\"2143\"}},\"id\":\"2118\",\"type\":\"ColumnDataSource\"},{\"attributes\":{},\"id\":\"2105\",\"type\":\"PanTool\"},{\"attributes\":{\"callback\":null,\"renderers\":[{\"id\":\"2125\"}],\"tags\":[\"hv_created\"],\"tooltips\":[[\"index.hour\",\"@{index_full_stop_hour}\"],[\"index.dayofweek\",\"@{index_full_stop_dayofweek}\"],[\"Search Trends\",\"@{Search_Trends}\"]]},\"id\":\"2086\",\"type\":\"HoverTool\"},{\"attributes\":{},\"id\":\"2131\",\"type\":\"AllLabels\"},{\"attributes\":{\"coordinates\":null,\"group\":null,\"text_color\":\"black\",\"text_font_size\":\"12pt\"},\"id\":\"2088\",\"type\":\"Title\"},{\"attributes\":{},\"id\":\"2133\",\"type\":\"BasicTickFormatter\"},{\"attributes\":{},\"id\":\"2130\",\"type\":\"BasicTickFormatter\"},{\"attributes\":{},\"id\":\"2134\",\"type\":\"AllLabels\"},{\"attributes\":{\"overlay\":{\"id\":\"2109\"}},\"id\":\"2107\",\"type\":\"BoxZoomTool\"},{\"attributes\":{\"margin\":[5,5,5,5],\"name\":\"HSpacer03108\",\"sizing_mode\":\"stretch_width\"},\"id\":\"2157\",\"type\":\"Spacer\"},{\"attributes\":{\"tools\":[{\"id\":\"2086\"},{\"id\":\"2104\"},{\"id\":\"2105\"},{\"id\":\"2106\"},{\"id\":\"2107\"},{\"id\":\"2108\"}]},\"id\":\"2110\",\"type\":\"Toolbar\"},{\"attributes\":{\"end\":23.5,\"reset_end\":23.5,\"reset_start\":-0.5,\"start\":-0.5,\"tags\":[[[\"index.hour\",\"index.hour\",null]]]},\"id\":\"2084\",\"type\":\"Range1d\"},{\"attributes\":{\"high\":95.1447963800905,\"low\":5.574660633484163,\"nan_color\":\"white\",\"palette\":[\"#fff5eb\",\"#fff5ea\",\"#fff4e9\",\"#fff4e8\",\"#fff3e7\",\"#fff3e6\",\"#fff2e6\",\"#fff2e5\",\"#fff1e4\",\"#fff1e3\",\"#fff0e2\",\"#fff0e1\",\"#ffefe0\",\"#ffefdf\",\"#ffeede\",\"#ffeedd\",\"#feeddc\",\"#feeddc\",\"#feeddb\",\"#feecda\",\"#feecd9\",\"#feebd8\",\"#feebd7\",\"#feead6\",\"#feead5\",\"#fee9d4\",\"#fee9d3\",\"#fee8d2\",\"#fee8d2\",\"#fee7d1\",\"#fee7d0\",\"#fee6cf\",\"#fee6ce\",\"#fee5cc\",\"#fee5cb\",\"#fee4ca\",\"#fee3c8\",\"#fee2c7\",\"#fee2c6\",\"#fee1c4\",\"#fee0c3\",\"#fee0c1\",\"#fedfc0\",\"#fedebf\",\"#fedebd\",\"#feddbc\",\"#fedcbb\",\"#fedcb9\",\"#fddbb8\",\"#fddab6\",\"#fdd9b5\",\"#fdd9b4\",\"#fdd8b2\",\"#fdd7b1\",\"#fdd7af\",\"#fdd6ae\",\"#fdd5ad\",\"#fdd5ab\",\"#fdd4aa\",\"#fdd3a9\",\"#fdd3a7\",\"#fdd2a6\",\"#fdd1a4\",\"#fdd1a3\",\"#fdd0a2\",\"#fdcfa0\",\"#fdce9e\",\"#fdcd9c\",\"#fdcb9b\",\"#fdca99\",\"#fdc997\",\"#fdc895\",\"#fdc794\",\"#fdc692\",\"#fdc590\",\"#fdc48f\",\"#fdc38d\",\"#fdc28b\",\"#fdc189\",\"#fdc088\",\"#fdbf86\",\"#fdbe84\",\"#fdbd83\",\"#fdbb81\",\"#fdba7f\",\"#fdb97d\",\"#fdb87c\",\"#fdb77a\",\"#fdb678\",\"#fdb576\",\"#fdb475\",\"#fdb373\",\"#fdb271\",\"#fdb170\",\"#fdb06e\",\"#fdaf6c\",\"#fdae6a\",\"#fdad69\",\"#fdac67\",\"#fdab66\",\"#fda965\",\"#fda863\",\"#fda762\",\"#fda660\",\"#fda55f\",\"#fda45d\",\"#fda35c\",\"#fda25a\",\"#fda159\",\"#fda057\",\"#fd9f56\",\"#fd9e54\",\"#fd9d53\",\"#fd9c51\",\"#fd9b50\",\"#fd9a4e\",\"#fd994d\",\"#fd984b\",\"#fd974a\",\"#fd9649\",\"#fd9547\",\"#fd9446\",\"#fd9344\",\"#fd9243\",\"#fd9141\",\"#fd9040\",\"#fd8f3e\",\"#fd8e3d\",\"#fd8c3b\",\"#fc8b3a\",\"#fc8a39\",\"#fc8937\",\"#fb8836\",\"#fb8735\",\"#fb8634\",\"#fa8532\",\"#fa8331\",\"#f98230\",\"#f9812e\",\"#f9802d\",\"#f87f2c\",\"#f87e2b\",\"#f87d29\",\"#f77b28\",\"#f77a27\",\"#f67925\",\"#f67824\",\"#f67723\",\"#f57622\",\"#f57520\",\"#f5741f\",\"#f4721e\",\"#f4711c\",\"#f3701b\",\"#f36f1a\",\"#f36e19\",\"#f26d17\",\"#f26c16\",\"#f26b15\",\"#f16913\",\"#f16813\",\"#f06712\",\"#ef6612\",\"#ee6511\",\"#ee6410\",\"#ed6310\",\"#ec620f\",\"#eb610f\",\"#eb600e\",\"#ea5f0e\",\"#e95e0d\",\"#e85d0c\",\"#e75c0c\",\"#e75b0b\",\"#e65a0b\",\"#e5590a\",\"#e4580a\",\"#e45709\",\"#e35608\",\"#e25508\",\"#e15407\",\"#e15307\",\"#e05206\",\"#df5106\",\"#de5005\",\"#de4e05\",\"#dd4d04\",\"#dc4c03\",\"#db4b03\",\"#db4a02\",\"#da4902\",\"#d94801\",\"#d84801\",\"#d64701\",\"#d54601\",\"#d34601\",\"#d14501\",\"#d04501\",\"#ce4401\",\"#cd4401\",\"#cb4302\",\"#c94202\",\"#c84202\",\"#c64102\",\"#c54102\",\"#c34002\",\"#c14002\",\"#c03f02\",\"#be3f02\",\"#bd3e02\",\"#bb3d02\",\"#b93d02\",\"#b83c02\",\"#b63c02\",\"#b53b02\",\"#b33b02\",\"#b13a03\",\"#b03903\",\"#ae3903\",\"#ad3803\",\"#ab3803\",\"#a93703\",\"#a83703\",\"#a63603\",\"#a53603\",\"#a43503\",\"#a23503\",\"#a13403\",\"#a03403\",\"#9f3303\",\"#9e3303\",\"#9c3203\",\"#9b3203\",\"#9a3103\",\"#993103\",\"#973003\",\"#963003\",\"#952f03\",\"#942f03\",\"#932f03\",\"#912e04\",\"#902e04\",\"#8f2d04\",\"#8e2d04\",\"#8c2c04\",\"#8b2c04\",\"#8a2b04\",\"#892b04\",\"#882a04\",\"#862a04\",\"#852904\",\"#842904\",\"#832804\",\"#812804\",\"#802704\",\"#7f2704\"]},\"id\":\"2117\",\"type\":\"LinearColorMapper\"},{\"attributes\":{},\"id\":\"2139\",\"type\":\"NoOverlap\"},{\"attributes\":{},\"id\":\"2108\",\"type\":\"ResetTool\"},{\"attributes\":{\"margin\":[5,5,5,5],\"name\":\"HSpacer03107\",\"sizing_mode\":\"stretch_width\"},\"id\":\"2083\",\"type\":\"Spacer\"},{\"attributes\":{\"fill_color\":{\"field\":\"zvalues\",\"transform\":{\"id\":\"2117\"}},\"height\":{\"field\":\"height\"},\"line_alpha\":{\"value\":0},\"line_color\":{\"value\":\"#1f77b4\"},\"width\":{\"field\":\"width\"},\"x\":{\"field\":\"index_full_stop_hour\"},\"y\":{\"field\":\"index_full_stop_dayofweek\"}},\"id\":\"2123\",\"type\":\"Rect\"},{\"attributes\":{},\"id\":\"2092\",\"type\":\"LinearScale\"},{\"attributes\":{\"axis_label\":\"index.hour\",\"coordinates\":null,\"formatter\":{\"id\":\"2130\"},\"group\":null,\"major_label_policy\":{\"id\":\"2131\"},\"ticker\":{\"id\":\"2097\"}},\"id\":\"2096\",\"type\":\"LinearAxis\"},{\"attributes\":{\"fill_alpha\":{\"value\":0.1},\"fill_color\":{\"field\":\"zvalues\",\"transform\":{\"id\":\"2117\"}},\"hatch_alpha\":{\"value\":0.1},\"height\":{\"field\":\"height\"},\"line_alpha\":{\"value\":0},\"line_color\":{\"value\":\"#1f77b4\"},\"width\":{\"field\":\"width\"},\"x\":{\"field\":\"index_full_stop_hour\"},\"y\":{\"field\":\"index_full_stop_dayofweek\"}},\"id\":\"2122\",\"type\":\"Rect\"},{\"attributes\":{},\"id\":\"2119\",\"type\":\"Selection\"},{\"attributes\":{\"bottom_units\":\"screen\",\"coordinates\":null,\"fill_alpha\":0.5,\"fill_color\":\"lightgrey\",\"group\":null,\"left_units\":\"screen\",\"level\":\"overlay\",\"line_alpha\":1.0,\"line_color\":\"black\",\"line_dash\":[4,4],\"line_width\":2,\"right_units\":\"screen\",\"syncable\":false,\"top_units\":\"screen\"},\"id\":\"2109\",\"type\":\"BoxAnnotation\"},{\"attributes\":{\"fill_color\":{\"field\":\"zvalues\",\"transform\":{\"id\":\"2117\"}},\"height\":{\"field\":\"height\"},\"line_alpha\":{\"value\":0},\"line_color\":{\"value\":\"#1f77b4\"},\"width\":{\"field\":\"width\"},\"x\":{\"field\":\"index_full_stop_hour\"},\"y\":{\"field\":\"index_full_stop_dayofweek\"}},\"id\":\"2121\",\"type\":\"Rect\"},{\"attributes\":{},\"id\":\"2101\",\"type\":\"BasicTicker\"},{\"attributes\":{\"end\":6.5,\"reset_end\":6.5,\"reset_start\":-0.5,\"start\":-0.5,\"tags\":[[[\"index.dayofweek\",\"index.dayofweek\",null]]]},\"id\":\"2085\",\"type\":\"Range1d\"},{\"attributes\":{\"fill_alpha\":{\"value\":0.2},\"fill_color\":{\"field\":\"zvalues\",\"transform\":{\"id\":\"2117\"}},\"hatch_alpha\":{\"value\":0.2},\"height\":{\"field\":\"height\"},\"line_alpha\":{\"value\":0},\"line_color\":{\"value\":\"#1f77b4\"},\"width\":{\"field\":\"width\"},\"x\":{\"field\":\"index_full_stop_hour\"},\"y\":{\"field\":\"index_full_stop_dayofweek\"}},\"id\":\"2124\",\"type\":\"Rect\"},{\"attributes\":{\"coordinates\":null,\"data_source\":{\"id\":\"2118\"},\"glyph\":{\"id\":\"2121\"},\"group\":null,\"hover_glyph\":null,\"muted_glyph\":{\"id\":\"2124\"},\"nonselection_glyph\":{\"id\":\"2122\"},\"selection_glyph\":{\"id\":\"2123\"},\"view\":{\"id\":\"2126\"}},\"id\":\"2125\",\"type\":\"GlyphRenderer\"},{\"attributes\":{\"axis\":{\"id\":\"2096\"},\"coordinates\":null,\"grid_line_color\":null,\"group\":null,\"ticker\":null},\"id\":\"2099\",\"type\":\"Grid\"},{\"attributes\":{\"children\":[{\"id\":\"2083\"},{\"id\":\"2087\"},{\"id\":\"2157\"}],\"margin\":[0,0,0,0],\"name\":\"Row03103\",\"tags\":[\"embedded\"]},\"id\":\"2082\",\"type\":\"Row\"},{\"attributes\":{},\"id\":\"2097\",\"type\":\"BasicTicker\"},{\"attributes\":{},\"id\":\"2143\",\"type\":\"UnionRenderers\"},{\"attributes\":{\"source\":{\"id\":\"2118\"}},\"id\":\"2126\",\"type\":\"CDSView\"},{\"attributes\":{},\"id\":\"2127\",\"type\":\"BasicTicker\"}],\"root_ids\":[\"2082\"]},\"title\":\"Bokeh Application\",\"version\":\"2.4.2\"}};\n",
       "    var render_items = [{\"docid\":\"ea03027b-4fa9-47ec-91a6-78899081edf1\",\"root_ids\":[\"2082\"],\"roots\":{\"2082\":\"309fbdbe-ed9b-40f4-96af-950fbb16878f\"}}];\n",
       "    root.Bokeh.embed.embed_items_notebook(docs_json, render_items);\n",
       "  }\n",
       "  if (root.Bokeh !== undefined && root.Bokeh.Panel !== undefined) {\n",
       "    embed_document(root);\n",
       "  } else {\n",
       "    var attempts = 0;\n",
       "    var timer = setInterval(function(root) {\n",
       "      if (root.Bokeh !== undefined && root.Bokeh.Panel !== undefined) {\n",
       "        clearInterval(timer);\n",
       "        embed_document(root);\n",
       "      } else if (document.readyState == \"complete\") {\n",
       "        attempts++;\n",
       "        if (attempts > 200) {\n",
       "          clearInterval(timer);\n",
       "          console.log(\"Bokeh: ERROR: Unable to run BokehJS code because BokehJS library is missing\");\n",
       "        }\n",
       "      }\n",
       "    }, 25, root)\n",
       "  }\n",
       "})(window);</script>"
      ],
      "text/plain": [
       ":HeatMap   [index.hour,index.dayofweek]   (Search Trends)"
      ]
     },
     "execution_count": 34,
     "metadata": {
      "application/vnd.holoviews_exec.v0+json": {
       "id": "2082"
      }
     },
     "output_type": "execute_result"
    }
   ],
   "source": [
    "# Use hvPlot to visualize the hour of the day and day of week search traffic as a heatmap.\n",
    "df_mercado_trends.hvplot.heatmap(x='index.hour', y='index.dayofweek', C='Search Trends', cmap='oranges').aggregate(function=np.mean)"
   ]
  },
  {
   "cell_type": "markdown",
   "metadata": {},
   "source": [
    "##### Answer the following question:"
   ]
  },
  {
   "cell_type": "markdown",
   "metadata": {},
   "source": [
    "**Question:** Does any day-of-week effect that you observe concentrate in just a few hours of that day?\n",
    "\n",
    "**Answer:**  \n",
    "The heatmap does reveal a pattern, that nearly every day, search traffic is highest from hour 22 to hour 01. Sunday however has a longer lull of low traffic from eary to mid day, but is still high by hour 23 at the day's end."
   ]
  },
  {
   "cell_type": "markdown",
   "metadata": {},
   "source": [
    "#### Step 3: Group the search data by the week of the year. Does the search traffic tend to increase during the winter holiday period (weeks 40 through 52)?"
   ]
  },
  {
   "cell_type": "code",
   "execution_count": 38,
   "metadata": {},
   "outputs": [
    {
     "data": {},
     "metadata": {},
     "output_type": "display_data"
    },
    {
     "data": {
      "application/vnd.holoviews_exec.v0+json": "",
      "text/html": [
       "<div id='2458'>\n",
       "\n",
       "\n",
       "\n",
       "\n",
       "\n",
       "  <div class=\"bk-root\" id=\"f58ff315-398e-405d-a8fd-706982c02962\" data-root-id=\"2458\"></div>\n",
       "</div>\n",
       "<script type=\"application/javascript\">(function(root) {\n",
       "  function embed_document(root) {\n",
       "    var docs_json = {\"cbb94de6-5ce5-4bab-b36e-628f24880ad1\":{\"defs\":[{\"extends\":null,\"module\":null,\"name\":\"ReactiveHTML1\",\"overrides\":[],\"properties\":[]},{\"extends\":null,\"module\":null,\"name\":\"FlexBox1\",\"overrides\":[],\"properties\":[{\"default\":\"flex-start\",\"kind\":null,\"name\":\"align_content\"},{\"default\":\"flex-start\",\"kind\":null,\"name\":\"align_items\"},{\"default\":\"row\",\"kind\":null,\"name\":\"flex_direction\"},{\"default\":\"wrap\",\"kind\":null,\"name\":\"flex_wrap\"},{\"default\":\"flex-start\",\"kind\":null,\"name\":\"justify_content\"}]},{\"extends\":null,\"module\":null,\"name\":\"TemplateActions1\",\"overrides\":[],\"properties\":[{\"default\":0,\"kind\":null,\"name\":\"open_modal\"},{\"default\":0,\"kind\":null,\"name\":\"close_modal\"}]},{\"extends\":null,\"module\":null,\"name\":\"MaterialTemplateActions1\",\"overrides\":[],\"properties\":[{\"default\":0,\"kind\":null,\"name\":\"open_modal\"},{\"default\":0,\"kind\":null,\"name\":\"close_modal\"}]}],\"roots\":{\"references\":[{\"attributes\":{},\"id\":\"2477\",\"type\":\"BasicTicker\"},{\"attributes\":{\"below\":[{\"id\":\"2472\"}],\"center\":[{\"id\":\"2475\"},{\"id\":\"2479\"}],\"height\":300,\"left\":[{\"id\":\"2476\"}],\"margin\":[5,5,5,5],\"min_border_bottom\":10,\"min_border_left\":10,\"min_border_right\":10,\"min_border_top\":10,\"renderers\":[{\"id\":\"2499\"}],\"sizing_mode\":\"fixed\",\"title\":{\"id\":\"2464\"},\"toolbar\":{\"id\":\"2486\"},\"width\":700,\"x_range\":{\"id\":\"2460\"},\"x_scale\":{\"id\":\"2468\"},\"y_range\":{\"id\":\"2461\"},\"y_scale\":{\"id\":\"2470\"}},\"id\":\"2463\",\"subtype\":\"Figure\",\"type\":\"Plot\"},{\"attributes\":{\"axis_label\":\"Avg Traffic\",\"coordinates\":null,\"formatter\":{\"id\":\"2506\"},\"group\":null,\"major_label_policy\":{\"id\":\"2507\"},\"ticker\":{\"id\":\"2477\"}},\"id\":\"2476\",\"type\":\"LinearAxis\"},{\"attributes\":{\"line_color\":\"#30a2da\",\"line_width\":2,\"x\":{\"field\":\"week\"},\"y\":{\"field\":\"Search Trends\"}},\"id\":\"2496\",\"type\":\"Line\"},{\"attributes\":{},\"id\":\"2507\",\"type\":\"AllLabels\"},{\"attributes\":{\"end\":51.47306547619048,\"reset_end\":51.47306547619048,\"reset_start\":43.8141369047619,\"start\":43.8141369047619,\"tags\":[[[\"Search Trends\",\"Search Trends\",null]]]},\"id\":\"2461\",\"type\":\"Range1d\"},{\"attributes\":{},\"id\":\"2503\",\"type\":\"BasicTickFormatter\"},{\"attributes\":{\"line_alpha\":0.1,\"line_color\":\"#30a2da\",\"line_width\":2,\"x\":{\"field\":\"week\"},\"y\":{\"field\":\"Search Trends\"}},\"id\":\"2497\",\"type\":\"Line\"},{\"attributes\":{\"line_alpha\":0.2,\"line_color\":\"#30a2da\",\"line_width\":2,\"x\":{\"field\":\"week\"},\"y\":{\"field\":\"Search Trends\"}},\"id\":\"2498\",\"type\":\"Line\"},{\"attributes\":{},\"id\":\"2515\",\"type\":\"UnionRenderers\"},{\"attributes\":{\"children\":[{\"id\":\"2459\"},{\"id\":\"2463\"},{\"id\":\"2528\"}],\"margin\":[0,0,0,0],\"name\":\"Row03657\",\"tags\":[\"embedded\"]},\"id\":\"2458\",\"type\":\"Row\"},{\"attributes\":{\"source\":{\"id\":\"2493\"}},\"id\":\"2500\",\"type\":\"CDSView\"},{\"attributes\":{},\"id\":\"2504\",\"type\":\"AllLabels\"},{\"attributes\":{},\"id\":\"2506\",\"type\":\"BasicTickFormatter\"},{\"attributes\":{},\"id\":\"2480\",\"type\":\"SaveTool\"},{\"attributes\":{},\"id\":\"2494\",\"type\":\"Selection\"},{\"attributes\":{\"coordinates\":null,\"data_source\":{\"id\":\"2493\"},\"glyph\":{\"id\":\"2496\"},\"group\":null,\"hover_glyph\":null,\"muted_glyph\":{\"id\":\"2498\"},\"nonselection_glyph\":{\"id\":\"2497\"},\"selection_glyph\":{\"id\":\"2501\"},\"view\":{\"id\":\"2500\"}},\"id\":\"2499\",\"type\":\"GlyphRenderer\"},{\"attributes\":{},\"id\":\"2481\",\"type\":\"PanTool\"},{\"attributes\":{\"callback\":null,\"renderers\":[{\"id\":\"2499\"}],\"tags\":[\"hv_created\"],\"tooltips\":[[\"week\",\"@{week}\"],[\"Search Trends\",\"@{Search_Trends}\"]]},\"id\":\"2462\",\"type\":\"HoverTool\"},{\"attributes\":{},\"id\":\"2482\",\"type\":\"WheelZoomTool\"},{\"attributes\":{\"tools\":[{\"id\":\"2462\"},{\"id\":\"2480\"},{\"id\":\"2481\"},{\"id\":\"2482\"},{\"id\":\"2483\"},{\"id\":\"2484\"}]},\"id\":\"2486\",\"type\":\"Toolbar\"},{\"attributes\":{\"margin\":[5,5,5,5],\"name\":\"HSpacer03661\",\"sizing_mode\":\"stretch_width\"},\"id\":\"2459\",\"type\":\"Spacer\"},{\"attributes\":{\"overlay\":{\"id\":\"2485\"}},\"id\":\"2483\",\"type\":\"BoxZoomTool\"},{\"attributes\":{\"coordinates\":null,\"group\":null,\"text\":\"Avg Search Traffic By Week Of Year\",\"text_color\":\"black\",\"text_font_size\":\"12pt\"},\"id\":\"2464\",\"type\":\"Title\"},{\"attributes\":{},\"id\":\"2470\",\"type\":\"LinearScale\"},{\"attributes\":{\"axis\":{\"id\":\"2476\"},\"coordinates\":null,\"dimension\":1,\"grid_line_color\":null,\"group\":null,\"ticker\":null},\"id\":\"2479\",\"type\":\"Grid\"},{\"attributes\":{},\"id\":\"2484\",\"type\":\"ResetTool\"},{\"attributes\":{\"bottom_units\":\"screen\",\"coordinates\":null,\"fill_alpha\":0.5,\"fill_color\":\"lightgrey\",\"group\":null,\"left_units\":\"screen\",\"level\":\"overlay\",\"line_alpha\":1.0,\"line_color\":\"black\",\"line_dash\":[4,4],\"line_width\":2,\"right_units\":\"screen\",\"syncable\":false,\"top_units\":\"screen\"},\"id\":\"2485\",\"type\":\"BoxAnnotation\"},{\"attributes\":{\"line_color\":\"#30a2da\",\"line_width\":2,\"x\":{\"field\":\"week\"},\"y\":{\"field\":\"Search Trends\"}},\"id\":\"2501\",\"type\":\"Line\"},{\"attributes\":{},\"id\":\"2468\",\"type\":\"LinearScale\"},{\"attributes\":{\"margin\":[5,5,5,5],\"name\":\"HSpacer03662\",\"sizing_mode\":\"stretch_width\"},\"id\":\"2528\",\"type\":\"Spacer\"},{\"attributes\":{\"data\":{\"Search Trends\":{\"__ndarray__\":\"JUmSJEl2RkBiGIZhGApJQAzDMAzDPElAbtu2bdtqSUBu27Zt2wpJQBiGYRiGDUlASZIkSZIUSUDbtm3btmFJQGtxE+Z3tUhAchzHcRxnSEBw+ZZv+e5IQJ7neZ7naUhAkiRJkiSNR0B6nud5nm9IQLdt27Zt20dA27Zt27bhR0AMwzAMw3BIQPQ8z/M8z0dAep7neZ6vRkAlSZIkSeJHQFVVVVVV5UdAwgcffPCRSEBYfMVXfDVIQHqe53meJ0hAOIETOIETSEBiGIZhGMZHQGQ/9mM/xkdAFDiBEzjxR0A9z/M8z+NHQIQ6qIM6uEdAvuIrvuILSEAg+7Ef+0FIQKM1WqM1mkhAERERERGRSECe53me5zlGQD/2Yz/2o0dAhOFqRdsDSED0PM/zPNtGQM/zPM/zHEhASZIkSZKYR0C3bdu2bedGQJIkSZIkqUZAep7neZ4/R0AAAAAAABhIQM/zPM/zwEdAJUmSJEn+R0AYhmEYhr1IQG7btm3bokhAnud5nud5SED0PM/zPKtIQHqe53me30hADMMwDMNURkA=\",\"dtype\":\"float64\",\"order\":\"little\",\"shape\":[52]},\"Search_Trends\":{\"__ndarray__\":\"JUmSJEl2RkBiGIZhGApJQAzDMAzDPElAbtu2bdtqSUBu27Zt2wpJQBiGYRiGDUlASZIkSZIUSUDbtm3btmFJQGtxE+Z3tUhAchzHcRxnSEBw+ZZv+e5IQJ7neZ7naUhAkiRJkiSNR0B6nud5nm9IQLdt27Zt20dA27Zt27bhR0AMwzAMw3BIQPQ8z/M8z0dAep7neZ6vRkAlSZIkSeJHQFVVVVVV5UdAwgcffPCRSEBYfMVXfDVIQHqe53meJ0hAOIETOIETSEBiGIZhGMZHQGQ/9mM/xkdAFDiBEzjxR0A9z/M8z+NHQIQ6qIM6uEdAvuIrvuILSEAg+7Ef+0FIQKM1WqM1mkhAERERERGRSECe53me5zlGQD/2Yz/2o0dAhOFqRdsDSED0PM/zPNtGQM/zPM/zHEhASZIkSZKYR0C3bdu2bedGQJIkSZIkqUZAep7neZ4/R0AAAAAAABhIQM/zPM/zwEdAJUmSJEn+R0AYhmEYhr1IQG7btm3bokhAnud5nud5SED0PM/zPKtIQHqe53me30hADMMwDMNURkA=\",\"dtype\":\"float64\",\"order\":\"little\",\"shape\":[52]},\"week\":[1,2,3,4,5,6,7,8,9,10,11,12,13,14,15,16,17,18,19,20,21,22,23,24,25,26,27,28,29,30,31,32,33,34,35,36,37,38,39,40,41,42,43,44,45,46,47,48,49,50,51,52]},\"selected\":{\"id\":\"2494\"},\"selection_policy\":{\"id\":\"2515\"}},\"id\":\"2493\",\"type\":\"ColumnDataSource\"},{\"attributes\":{\"axis_label\":\"Week Of Year\",\"coordinates\":null,\"formatter\":{\"id\":\"2503\"},\"group\":null,\"major_label_policy\":{\"id\":\"2504\"},\"ticker\":{\"id\":\"2473\"}},\"id\":\"2472\",\"type\":\"LinearAxis\"},{\"attributes\":{\"end\":52.0,\"reset_end\":52.0,\"reset_start\":1.0,\"start\":1.0,\"tags\":[[[\"week\",\"week\",null]]]},\"id\":\"2460\",\"type\":\"Range1d\"},{\"attributes\":{},\"id\":\"2473\",\"type\":\"BasicTicker\"},{\"attributes\":{\"axis\":{\"id\":\"2472\"},\"coordinates\":null,\"grid_line_color\":null,\"group\":null,\"ticker\":null},\"id\":\"2475\",\"type\":\"Grid\"}],\"root_ids\":[\"2458\"]},\"title\":\"Bokeh Application\",\"version\":\"2.4.2\"}};\n",
       "    var render_items = [{\"docid\":\"cbb94de6-5ce5-4bab-b36e-628f24880ad1\",\"root_ids\":[\"2458\"],\"roots\":{\"2458\":\"f58ff315-398e-405d-a8fd-706982c02962\"}}];\n",
       "    root.Bokeh.embed.embed_items_notebook(docs_json, render_items);\n",
       "  }\n",
       "  if (root.Bokeh !== undefined && root.Bokeh.Panel !== undefined) {\n",
       "    embed_document(root);\n",
       "  } else {\n",
       "    var attempts = 0;\n",
       "    var timer = setInterval(function(root) {\n",
       "      if (root.Bokeh !== undefined && root.Bokeh.Panel !== undefined) {\n",
       "        clearInterval(timer);\n",
       "        embed_document(root);\n",
       "      } else if (document.readyState == \"complete\") {\n",
       "        attempts++;\n",
       "        if (attempts > 200) {\n",
       "          clearInterval(timer);\n",
       "          console.log(\"Bokeh: ERROR: Unable to run BokehJS code because BokehJS library is missing\");\n",
       "        }\n",
       "      }\n",
       "    }, 25, root)\n",
       "  }\n",
       "})(window);</script>"
      ],
      "text/plain": [
       ":Curve   [week]   (Search Trends)"
      ]
     },
     "execution_count": 38,
     "metadata": {
      "application/vnd.holoviews_exec.v0+json": {
       "id": "2458"
      }
     },
     "output_type": "execute_result"
    }
   ],
   "source": [
    "# Group the hourly search data to plot (use hvPlot) the average traffic by the week of the year\n",
    "avg_traffic_by_week_of_year = df_mercado_trends['Search Trends'].groupby(by=[df_mercado_trends.index.isocalendar().week]).mean()\n",
    "avg_traffic_by_week_of_year.hvplot(title='Avg Search Traffic By Week Of Year', xlabel='Week Of Year', ylabel='Avg Traffic')"
   ]
  },
  {
   "cell_type": "markdown",
   "metadata": {},
   "source": [
    "##### Answer the following question:"
   ]
  },
  {
   "cell_type": "markdown",
   "metadata": {},
   "source": [
    "**Question:** Does the search traffic tend to increase during the winter holiday period (weeks 40 through 52)?\n",
    "\n",
    "**Answer:**  \n",
    "The search traffic does show a rise during weeks 40 to 52, rising from 45.3 in week 42 to 49.7 in week 51. Traffic drops at the very last/first week of the year.  "
   ]
  },
  {
   "cell_type": "markdown",
   "metadata": {},
   "source": [
    "## Step 3: Relate the Search Traffic to Stock Price Patterns\n",
    "\n",
    "You mention your work on the search traffic data during a meeting with people in the finance group at the company. They want to know if any relationship between the search data and the company stock price exists, and they ask if you can investigate.\n",
    "\n",
    "To do so, complete the following steps:\n",
    "\n",
    "1. Read in and plot the stock price data. Concatenate the stock price data to the search data in a single DataFrame.\n",
    "\n",
    "2. Market events emerged during the year of 2020 that many companies found difficult. But, after the initial shock to global financial markets, new customers and revenue increased for e-commerce platforms. Slice the data to just the first half of 2020 (`2020-01` to `2020-06` in the DataFrame), and then use hvPlot to plot the data. Do both time series indicate a common trend that’s consistent with this narrative?\n",
    "\n",
    "3. Create a new column in the DataFrame named “Lagged Search Trends” that offsets, or shifts, the search traffic by one hour. Create two additional columns:\n",
    "\n",
    "    * “Stock Volatility”, which holds an exponentially weighted four-hour rolling average of the company’s stock volatility\n",
    "\n",
    "    * “Hourly Stock Return”, which holds the percent change of the company's stock price on an hourly basis\n",
    "\n",
    "4. Review the time series correlation, and then answer the following question: Does a predictable relationship exist between the lagged search traffic and the stock volatility or between the lagged search traffic and the stock price returns?\n"
   ]
  },
  {
   "cell_type": "markdown",
   "metadata": {},
   "source": [
    "#### Step 1: Read in and plot the stock price data. Concatenate the stock price data to the search data in a single DataFrame."
   ]
  },
  {
   "cell_type": "code",
   "execution_count": null,
   "metadata": {},
   "outputs": [],
   "source": [
    "# Upload the \"mercado_stock_price.csv\" file into Colab, then store in a Pandas DataFrame\n",
    "# Set the \"date\" column as the Datetime Index.\n",
    "from google.colab import files\n",
    "uploaded = files.upload()\n",
    "\n",
    "df_mercado_stock = # YOUR CODE HERE\n",
    "\n",
    "# View the first and last five rows of the DataFrame\n",
    "# YOUR CODE HERE\n"
   ]
  },
  {
   "cell_type": "code",
   "execution_count": null,
   "metadata": {},
   "outputs": [],
   "source": [
    "# Holoviews extension to render hvPlots in Colab\n",
    "hv.extension('bokeh')\n",
    "\n",
    "# Use hvPlot to visualize the closing price of the df_mercado_stock DataFrame\n",
    "# YOUR CODE HERE\n"
   ]
  },
  {
   "cell_type": "code",
   "execution_count": null,
   "metadata": {},
   "outputs": [],
   "source": [
    "# Concatenate the df_mercado_stock DataFrame with the df_mercado_trends DataFrame\n",
    "# Concatenate the DataFrame by columns (axis=1), and drop and rows with only one column of data\n",
    "mercado_stock_trends_df = # YOUR CODE HERE\n",
    "\n",
    "# View the first and last five rows of the DataFrame\n",
    "# YOUR CODE HERE\n"
   ]
  },
  {
   "cell_type": "markdown",
   "metadata": {},
   "source": [
    "#### Step 2: Market events emerged during the year of 2020 that many companies found difficult. But, after the initial shock to global financial markets, new customers and revenue increased for e-commerce platforms. Slice the data to just the first half of 2020 (`2020-01` to `2020-06` in the DataFrame), and then use hvPlot to plot the data. Do both time series indicate a common trend that’s consistent with this narrative?"
   ]
  },
  {
   "cell_type": "code",
   "execution_count": null,
   "metadata": {},
   "outputs": [],
   "source": [
    "# For the combined dataframe, slice to just the first half of 2020 (2020-01 through 2020-06) \n",
    "first_half_2020 = # YOUR CODE HERE\n",
    "\n",
    "# View the first and last five rows of first_half_2020 DataFrame\n",
    "# YOUR CODE HERE\n"
   ]
  },
  {
   "cell_type": "code",
   "execution_count": null,
   "metadata": {},
   "outputs": [],
   "source": [
    "# Holoviews extension to render hvPlots in Colab\n",
    "hv.extension('bokeh')\n",
    "\n",
    "# Use hvPlot to visualize the close and Search Trends data\n",
    "# Plot each column on a separate axes using the following syntax\n",
    "# `hvplot(shared_axes=False, subplots=True).cols(1)`\n",
    "# YOUR CODE HERE\n"
   ]
  },
  {
   "cell_type": "markdown",
   "metadata": {},
   "source": [
    "##### Answer the following question:"
   ]
  },
  {
   "cell_type": "markdown",
   "metadata": {},
   "source": [
    "**Question:** Do both time series indicate a common trend that’s consistent with this narrative?\n",
    "\n",
    "**Answer:** # YOUR ANSWER HERE"
   ]
  },
  {
   "cell_type": "markdown",
   "metadata": {},
   "source": [
    "#### Step 3: Create a new column in the DataFrame named “Lagged Search Trends” that offsets, or shifts, the search traffic by one hour. Create two additional columns:\n",
    "\n",
    "* “Stock Volatility”, which holds an exponentially weighted four-hour rolling average of the company’s stock volatility\n",
    "\n",
    "* “Hourly Stock Return”, which holds the percent change of the company's stock price on an hourly basis\n"
   ]
  },
  {
   "cell_type": "code",
   "execution_count": null,
   "metadata": {},
   "outputs": [],
   "source": [
    "# Create a new column in the mercado_stock_trends_df DataFrame called Lagged Search Trends\n",
    "# This column should shift the Search Trends information by one hour\n",
    "mercado_stock_trends_df['Lagged Search Trends'] = # YOUR CODE HERE\n"
   ]
  },
  {
   "cell_type": "code",
   "execution_count": null,
   "metadata": {},
   "outputs": [],
   "source": [
    "# Create a new column in the mercado_stock_trends_df DataFrame called Stock Volatility\n",
    "# This column should calculate the standard deviation of the closing stock price return data over a 4 period rolling window\n",
    "mercado_stock_trends_df['Stock Volatility'] = # YOUR CODE HERE\n"
   ]
  },
  {
   "cell_type": "code",
   "execution_count": null,
   "metadata": {},
   "outputs": [],
   "source": [
    "# Holoviews extension to render hvPlots in Colab\n",
    "hv.extension('bokeh')\n",
    "\n",
    "# Use hvPlot to visualize the stock volatility\n",
    "# YOUR CODE HERE\n"
   ]
  },
  {
   "cell_type": "markdown",
   "metadata": {},
   "source": [
    "**Solution Note:** Note how volatility spiked, and tended to stay high, during the first half of 2020. This is a common characteristic of volatility in stock returns worldwide: high volatility days tend to be followed by yet more high volatility days. When it rains, it pours."
   ]
  },
  {
   "cell_type": "code",
   "execution_count": null,
   "metadata": {},
   "outputs": [],
   "source": [
    "# Create a new column in the mercado_stock_trends_df DataFrame called Hourly Stock Return\n",
    "# This column should calculate hourly return percentage of the closing price\n",
    "mercado_stock_trends_df['Hourly Stock Return'] = # YOUR CODE HERE\n"
   ]
  },
  {
   "cell_type": "code",
   "execution_count": null,
   "metadata": {},
   "outputs": [],
   "source": [
    "# View the first and last five rows of the mercado_stock_trends_df DataFrame\n",
    "# YOUR CODE HERE\n"
   ]
  },
  {
   "cell_type": "markdown",
   "metadata": {},
   "source": [
    "#### Step 4: Review the time series correlation, and then answer the following question: Does a predictable relationship exist between the lagged search traffic and the stock volatility or between the lagged search traffic and the stock price returns?"
   ]
  },
  {
   "cell_type": "code",
   "execution_count": null,
   "metadata": {},
   "outputs": [],
   "source": [
    "# Construct correlation table of Stock Volatility, Lagged Search Trends, and Hourly Stock Return\n",
    "# YOUR CODE HERE\n"
   ]
  },
  {
   "cell_type": "markdown",
   "metadata": {},
   "source": [
    "##### Answer the following question:\n"
   ]
  },
  {
   "cell_type": "markdown",
   "metadata": {},
   "source": [
    "**Question:** Does a predictable relationship exist between the lagged search traffic and the stock volatility or between the lagged search traffic and the stock price returns?\n",
    "\n",
    "**Answer:** # YOUR ANSWER HERE"
   ]
  },
  {
   "cell_type": "markdown",
   "metadata": {},
   "source": [
    "## Step 4: Create a Time Series Model with Prophet\n",
    "\n",
    "Now, you need to produce a time series model that analyzes and forecasts patterns in the hourly search data. To do so, complete the following steps:\n",
    "\n",
    "1. Set up the Google search data for a Prophet forecasting model.\n",
    "\n",
    "2. After estimating the model, plot the forecast. How's the near-term forecast for the popularity of MercadoLibre?\n",
    "\n",
    "3. Plot the individual time series components of the model to answer the following questions:\n",
    "\n",
    "    * What time of day exhibits the greatest popularity?\n",
    "\n",
    "    * Which day of the week gets the most search traffic?\n",
    "\n",
    "    * What's the lowest point for search traffic in the calendar year?\n"
   ]
  },
  {
   "cell_type": "markdown",
   "metadata": {},
   "source": [
    "#### Step 1: Set up the Google search data for a Prophet forecasting model."
   ]
  },
  {
   "cell_type": "code",
   "execution_count": null,
   "metadata": {},
   "outputs": [],
   "source": [
    "# Using the df_mercado_trends DataFrame, reset the index so the date information is no longer the index\n",
    "mercado_prophet_df = # YOUR CODE HERE\n",
    "\n",
    "# Label the columns ds and y so that the syntax is recognized by Prophet\n",
    "# YOUR CODE HERE\n",
    "\n",
    "# Drop an NaN values from the prophet_df DataFrame\n",
    "mercado_prophet_df = # YOUR CODE HERE\n",
    "\n",
    "# View the first and last five rows of the mercado_prophet_df DataFrame\n",
    "# YOUR CODE HERE\n"
   ]
  },
  {
   "cell_type": "code",
   "execution_count": null,
   "metadata": {},
   "outputs": [],
   "source": [
    "# Call the Prophet function, store as an object\n",
    "model_mercado_trends = # YOUR CODE HERE\n"
   ]
  },
  {
   "cell_type": "code",
   "execution_count": null,
   "metadata": {},
   "outputs": [],
   "source": [
    "# Fit the time-series model.\n",
    "# YOUR CODE HERE\n"
   ]
  },
  {
   "cell_type": "code",
   "execution_count": null,
   "metadata": {},
   "outputs": [],
   "source": [
    "# Create a future dataframe to hold predictions\n",
    "# Make the prediction go out as far as 2000 hours (approx 80 days)\n",
    "future_mercado_trends = # YOUR CODE HERE\n",
    "\n",
    "# View the last five rows of the future_mercado_trends DataFrame\n",
    "# YOUR CODE HERE\n"
   ]
  },
  {
   "cell_type": "code",
   "execution_count": null,
   "metadata": {},
   "outputs": [],
   "source": [
    "# Make the predictions for the trend data using the future_mercado_trends DataFrame\n",
    "forecast_mercado_trends = # YOUR CODE HERE\n",
    "\n",
    "# Display the first five rows of the forecast_mercado_trends DataFrame\n",
    "# YOUR CODE HERE\n"
   ]
  },
  {
   "cell_type": "markdown",
   "metadata": {},
   "source": [
    "#### Step 2: After estimating the model, plot the forecast. How's the near-term forecast for the popularity of MercadoLibre?"
   ]
  },
  {
   "cell_type": "code",
   "execution_count": null,
   "metadata": {},
   "outputs": [],
   "source": [
    "# Plot the Prophet predictions for the Mercado trends data\n",
    "# YOUR CODE HERE"
   ]
  },
  {
   "cell_type": "markdown",
   "metadata": {},
   "source": [
    "##### Answer the following question:"
   ]
  },
  {
   "cell_type": "markdown",
   "metadata": {},
   "source": [
    "**Question:**  How's the near-term forecast for the popularity of MercadoLibre?\n",
    "\n",
    "**Answer:** # YOUR ANSWER HERE\n"
   ]
  },
  {
   "cell_type": "markdown",
   "metadata": {},
   "source": [
    "#### Step 3: Plot the individual time series components of the model to answer the following questions:\n",
    "\n",
    "* What time of day exhibits the greatest popularity?\n",
    "\n",
    "* Which day of the week gets the most search traffic?\n",
    "\n",
    "* What's the lowest point for search traffic in the calendar year?\n"
   ]
  },
  {
   "cell_type": "code",
   "execution_count": null,
   "metadata": {},
   "outputs": [],
   "source": [
    "# Set the index in the forecast_mercado_trends DataFrame to the ds datetime column\n",
    "forecast_mercado_trends = # YOUR CODE HERE\n",
    "\n",
    "# View the only the yhat,yhat_lower and yhat_upper columns from the DataFrame\n",
    "# YOUR CODE HERE\n"
   ]
  },
  {
   "cell_type": "markdown",
   "metadata": {},
   "source": [
    "Solutions Note: `yhat` represents the most likely (average) forecast, whereas `yhat_lower` and `yhat_upper` represents the worst and best case prediction (based on what are known as 95% confidence intervals)."
   ]
  },
  {
   "cell_type": "code",
   "execution_count": null,
   "metadata": {},
   "outputs": [],
   "source": [
    "# Holoviews extension to render hvPlots in Colab\n",
    "hv.extension('bokeh')\n",
    "\n",
    "# From the forecast_mercado_trends DataFrame, use hvPlot to visualize\n",
    "#  the yhat, yhat_lower, and yhat_upper columns over the last 2000 hours \n",
    "# YOUR CODE HERE\n"
   ]
  },
  {
   "cell_type": "code",
   "execution_count": null,
   "metadata": {},
   "outputs": [],
   "source": [
    "# Reset the index in the forecast_mercado_trends DataFrame\n",
    "forecast_mercado_trends = # YOUR CODE HERE\n",
    "\n",
    "# Use the plot_components function to visualize the forecast results \n",
    "# for the forecast_canada DataFrame \n",
    "figures_mercado_trends = # YOUR CODE HERE\n"
   ]
  },
  {
   "cell_type": "markdown",
   "metadata": {},
   "source": [
    "##### Answer the following questions:"
   ]
  },
  {
   "cell_type": "markdown",
   "metadata": {},
   "source": [
    "**Question:** What time of day exhibits the greatest popularity?\n",
    "\n",
    "**Answer:** # YOUR ANSWER HERE"
   ]
  },
  {
   "cell_type": "markdown",
   "metadata": {},
   "source": [
    "**Question:** Which day of week gets the most search traffic? \n",
    "   \n",
    "**Answer:** # YOUR ANSWER HERE"
   ]
  },
  {
   "cell_type": "markdown",
   "metadata": {},
   "source": [
    "**Question:** What's the lowest point for search traffic in the calendar year?\n",
    "\n",
    "**Answer:** # YOUR ANSWER HERE\n"
   ]
  },
  {
   "cell_type": "markdown",
   "metadata": {},
   "source": [
    "## Step 5 (Optional): Forecast Revenue by Using Time Series Models\n",
    "\n",
    "A few weeks after your initial analysis, the finance group follows up to find out if you can help them solve a different problem. Your fame as a growth analyst in the company continues to grow!\n",
    "\n",
    "Specifically, the finance group wants a forecast of the total sales for the next quarter. This will dramatically increase their ability to plan budgets and to help guide expectations for the company investors.\n",
    "\n",
    "To do so, complete the following steps:\n",
    "\n",
    "1. Read in the daily historical sales (that is, revenue) figures, and then apply a Prophet model to the data. The daily sales figures are quoted in millions of USD dollars.\n",
    "\n",
    "2. Interpret the model output to identify any seasonal patterns in the company's revenue. For example, what are the peak revenue days? (Mondays? Fridays? Something else?)\n",
    "\n",
    "3. Produce a sales forecast for the finance group. Give them a number for the expected total sales in the next quarter. Include the best- and worst-case scenarios to help them make better plans.\n",
    "\n",
    "\n"
   ]
  },
  {
   "cell_type": "markdown",
   "metadata": {},
   "source": [
    "#### Step 1: Read in the daily historical sales (that is, revenue) figures, and then apply a Prophet model to the data."
   ]
  },
  {
   "cell_type": "code",
   "execution_count": null,
   "metadata": {},
   "outputs": [],
   "source": [
    "# Upload the \"mercado_daily_revenue.csv\" file into Colab, then store in a Pandas DataFrame\n",
    "# Set the \"date\" column as the DatetimeIndex\n",
    "# Sales are quoted in millions of US dollars\n",
    "from google.colab import files\n",
    "uploaded = files.upload()\n",
    "\n",
    "df_mercado_sales = # YOUR CODE HERE\n",
    "\n",
    "# Review the DataFrame\n",
    "# YOUR CODE HERE\n"
   ]
  },
  {
   "cell_type": "code",
   "execution_count": null,
   "metadata": {},
   "outputs": [],
   "source": [
    "# Holoviews extension to render hvPlots in Colab\n",
    "hv.extension('bokeh')\n",
    "\n",
    "# Use hvPlot to visualize the daily sales figures \n",
    "# YOUR CODE HERE\n"
   ]
  },
  {
   "cell_type": "code",
   "execution_count": null,
   "metadata": {},
   "outputs": [],
   "source": [
    "# Apply a Facebook Prophet model to the data.\n",
    "\n",
    "# Set up the dataframe in the neccessary format:\n",
    "# Reset the index so that date becomes a column in the DataFrame\n",
    "mercado_sales_prophet_df = # YOUR CODE HERE\n",
    "\n",
    "# Adjust the columns names to the Prophet syntax\n",
    "mercado_sales_prophet_df.columns = # YOUR CODE HERE\n",
    "\n",
    "# Visualize the DataFrame\n",
    "# YOUR CODE HERE\n"
   ]
  },
  {
   "cell_type": "code",
   "execution_count": null,
   "metadata": {},
   "outputs": [],
   "source": [
    "# Create the model\n",
    "mercado_sales_prophet_model = # YOUR CODE HERE\n",
    "\n",
    "# Fit the model\n",
    "# YOUR CODE HERE\n"
   ]
  },
  {
   "cell_type": "code",
   "execution_count": null,
   "metadata": {},
   "outputs": [],
   "source": [
    "# Predict sales for 90 days (1 quarter) out into the future.\n",
    "\n",
    "# Start by making a future dataframe\n",
    "mercado_sales_prophet_future = # YOUR CODE HERE\n",
    "\n",
    "# Display the last five rows of the future DataFrame\n",
    "# YOUR CODE HERE\n"
   ]
  },
  {
   "cell_type": "code",
   "execution_count": null,
   "metadata": {},
   "outputs": [],
   "source": [
    "# Make predictions for the sales each day over the next quarter\n",
    "mercado_sales_prophet_forecast = # YOUR CODE HERE\n",
    "\n",
    "# Display the first 5 rows of the resulting DataFrame\n",
    "# YOUR CODE HERE\n"
   ]
  },
  {
   "cell_type": "markdown",
   "metadata": {},
   "source": [
    "#### Step 2: Interpret the model output to identify any seasonal patterns in the company's revenue. For example, what are the peak revenue days? (Mondays? Fridays? Something else?)"
   ]
  },
  {
   "cell_type": "code",
   "execution_count": null,
   "metadata": {},
   "outputs": [],
   "source": [
    "# Use the plot_components function to analyze seasonal patterns in the company's revenue\n",
    "# YOUR CODE HERE\n"
   ]
  },
  {
   "cell_type": "markdown",
   "metadata": {},
   "source": [
    "##### Answer the following question:"
   ]
  },
  {
   "cell_type": "markdown",
   "metadata": {},
   "source": [
    "**Question:** For example, what are the peak revenue days? (Mondays? Fridays? Something else?)\n",
    "\n",
    "**Answer:** # YOUR ANSWER HERE"
   ]
  },
  {
   "cell_type": "markdown",
   "metadata": {},
   "source": [
    "#### Step 3: Produce a sales forecast for the finance group. Give them a number for the expected total sales in the next quarter. Include the best- and worst-case scenarios to help them make better plans."
   ]
  },
  {
   "cell_type": "code",
   "execution_count": null,
   "metadata": {},
   "outputs": [],
   "source": [
    "# Plot the predictions for the Mercado sales\n",
    "# YOUR CODE HERE\n"
   ]
  },
  {
   "cell_type": "code",
   "execution_count": null,
   "metadata": {},
   "outputs": [],
   "source": [
    "# For the mercado_sales_prophet_forecast DataFrame, set the ds column as the DataFrame Index\n",
    "mercado_sales_prophet_forecast = # YOUR CODE HERE\n",
    "\n",
    "# Display the first and last five rows of the DataFrame\n",
    "# YOUR CODE HERE\n"
   ]
  },
  {
   "cell_type": "code",
   "execution_count": null,
   "metadata": {},
   "outputs": [],
   "source": [
    "# Produce a sales forecast for the finance division\n",
    "# giving them a number for expected total sales next quarter.\n",
    "# Provide best case (yhat_upper), worst case (yhat_lower), and most likely (yhat) scenarios.\n",
    "\n",
    "# Create a forecast_quarter Dataframe for the period 2020-07-01 to 2020-09-30\n",
    "# The DataFrame should include the columns yhat_upper, yhat_lower, and yhat\n",
    "mercado_sales_forecast_quarter = # YOUR CODE HERE\n",
    "\n",
    "# Update the column names for the forecast_quarter DataFrame\n",
    "# to match what the finance division is looking for \n",
    "mercado_sales_forecast_quarter = # YOUR CODE HERE\n",
    "\n",
    "# Review the last five rows of the DataFrame\n",
    "# YOUR CODE HERE\n"
   ]
  },
  {
   "cell_type": "code",
   "execution_count": null,
   "metadata": {},
   "outputs": [],
   "source": [
    "# Displayed the summed values for all the rows in the forecast_quarter DataFrame\n",
    "# YOUR CODE HERE\n"
   ]
  },
  {
   "cell_type": "markdown",
   "metadata": {},
   "source": [
    "### Based on the forecast information generated above, produce a sales forecast for the finance division, giving them a number for expected total sales next quarter. Include best and worst case scenarios, to better help the finance team plan.\n",
    "\n",
    "**Answer:** # YOUR ANSWER HERE"
   ]
  },
  {
   "cell_type": "code",
   "execution_count": null,
   "metadata": {},
   "outputs": [],
   "source": []
  }
 ],
 "metadata": {
  "kernelspec": {
   "display_name": "Python 3 (ipykernel)",
   "language": "python",
   "name": "python3"
  },
  "language_info": {
   "codemirror_mode": {
    "name": "ipython",
    "version": 3
   },
   "file_extension": ".py",
   "mimetype": "text/x-python",
   "name": "python",
   "nbconvert_exporter": "python",
   "pygments_lexer": "ipython3",
   "version": "3.7.11"
  }
 },
 "nbformat": 4,
 "nbformat_minor": 4
}
